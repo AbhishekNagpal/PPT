{
 "cells": [
  {
   "cell_type": "markdown",
   "metadata": {},
   "source": [
    "<aside>\n",
    "💡 1. **Roman to Integer**\n",
    "\n",
    "Roman numerals are represented by seven different symbols: `I`, `V`, `X`, `L`, `C`, `D` and `M`.\n",
    "\n",
    "</aside>"
   ]
  },
  {
   "cell_type": "code",
   "execution_count": 33,
   "metadata": {},
   "outputs": [
    {
     "name": "stdout",
     "output_type": "stream",
     "text": [
      "3\n"
     ]
    }
   ],
   "source": [
    "def romanToInt(s):\n",
    "    roman={\"I\":1,\"V\":5,\"X\":10,\"L\":50,\"C\":100,\"D\":500,\"M\":1000}\n",
    "    number=0\n",
    "    for i in range(len(s)-1):\n",
    "        if roman[s[i]] < roman[s[(i+1)]]:\n",
    "            number-=roman[s[i]]\n",
    "        else:\n",
    "            number+=roman[s[i]]\n",
    "    return number+roman[s[-1]]\n",
    "\n",
    "s = 'III'\n",
    "print(romanToInt(s))"
   ]
  },
  {
   "cell_type": "markdown",
   "metadata": {},
   "source": [
    "<aside>\n",
    "💡 2. **Longest Substring Without Repeating Characters**\n",
    "\n",
    "</aside>"
   ]
  },
  {
   "cell_type": "code",
   "execution_count": null,
   "metadata": {},
   "outputs": [],
   "source": [
    "def lengthOfLongestSubstring(s):\n",
    "    n = len(s)\n",
    "    maxLength = 0\n",
    "    charSet = set()\n",
    "    left = 0\n",
    "        \n",
    "    for right in range(n):\n",
    "        if s[right] not in charSet:\n",
    "            charSet.add(s[right])\n",
    "            maxLength = max(maxLength, right - left + 1)\n",
    "        else:\n",
    "            while s[right] in charSet:\n",
    "                charSet.remove(s[left])\n",
    "                left += 1\n",
    "            charSet.add(s[right])\n",
    "        \n",
    "    return maxLength"
   ]
  },
  {
   "cell_type": "markdown",
   "metadata": {},
   "source": [
    "3. Majority Element"
   ]
  },
  {
   "cell_type": "code",
   "execution_count": null,
   "metadata": {},
   "outputs": [],
   "source": [
    "def majorityElement(arr):\n",
    "    ans_index = 0\n",
    "    count = 1\n",
    "    for i in range(1,len(arr)):\n",
    "        if arr[i] == arr[ans_index]:\n",
    "            count += 1\n",
    "        else:\n",
    "            count -= 1\n",
    "            \n",
    "        if count == 0:\n",
    "            ans_index = i\n",
    "            count = 1\n",
    "\n",
    "    if count>0:\n",
    "        return arr[ans_index]"
   ]
  },
  {
   "cell_type": "markdown",
   "metadata": {},
   "source": [
    "4. Group Anagram"
   ]
  },
  {
   "cell_type": "code",
   "execution_count": null,
   "metadata": {},
   "outputs": [],
   "source": [
    "def groupAnagrams(strs):\n",
    "    answer = defaultdict(list)\n",
    "    for word in strs:\n",
    "        answer[\"\".join(sorted(word))].append(word)\n",
    "    return list(answer.values())"
   ]
  },
  {
   "cell_type": "markdown",
   "metadata": {},
   "source": [
    "5. Ugly Numbers"
   ]
  },
  {
   "cell_type": "code",
   "execution_count": null,
   "metadata": {},
   "outputs": [],
   "source": [
    "def isUgly(self, n: int) -> bool:\n",
    "    if n <= 0:\n",
    "        return False\n",
    "    while n % 2 == 0:\n",
    "        n //= 2\n",
    "    while n % 3 == 0:\n",
    "        n //= 3\n",
    "    while n % 5 == 0:\n",
    "        n //= 5\n",
    "    return n == 1"
   ]
  },
  {
   "cell_type": "markdown",
   "metadata": {},
   "source": [
    "6. Top K Frequent Words"
   ]
  },
  {
   "cell_type": "code",
   "execution_count": null,
   "metadata": {},
   "outputs": [],
   "source": [
    "def topKFrequent(words,k):\n",
    "    d = {}\n",
    "    for word in set(words):\n",
    "        n = words.count(word)\n",
    "        if n in d:\n",
    "            d[n].append(word)\n",
    "        else:\n",
    "            d[n] = [word]\n",
    " \n",
    "    res = []      \n",
    "    for n in sorted(d, reverse=True):\n",
    "        l = d[n]\n",
    "        l.sort()\n",
    "        if len(l)<k-len(res):\n",
    "            res += l\n",
    "        else:\n",
    "            res += l[:k-len(res)]\n",
    "            break\n",
    "    return res"
   ]
  }
 ],
 "metadata": {
  "kernelspec": {
   "display_name": "Python 3",
   "language": "python",
   "name": "python3"
  },
  "language_info": {
   "codemirror_mode": {
    "name": "ipython",
    "version": 3
   },
   "file_extension": ".py",
   "mimetype": "text/x-python",
   "name": "python",
   "nbconvert_exporter": "python",
   "pygments_lexer": "ipython3",
   "version": "3.8.5"
  }
 },
 "nbformat": 4,
 "nbformat_minor": 4
}
