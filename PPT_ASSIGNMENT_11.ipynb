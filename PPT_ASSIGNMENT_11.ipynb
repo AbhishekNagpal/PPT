{
 "cells": [
  {
   "cell_type": "markdown",
   "metadata": {},
   "source": [
    "<aside>\n",
    "💡 **Question 1**\n",
    "\n",
    "Given a non-negative integer `x`, return *the square root of* `x` *rounded down to the nearest integer*. The returned integer should be **non-negative** as well.\n",
    "\n",
    "You **must not use** any built-in exponent function or operator.\n",
    "\n",
    "- For example, do not use `pow(x, 0.5)` in c++ or `x ** 0.5` in python.\n",
    "\n",
    "**Example 1:**\n",
    "\n",
    "</aside>"
   ]
  },
  {
   "cell_type": "code",
   "execution_count": 9,
   "metadata": {},
   "outputs": [
    {
     "name": "stdout",
     "output_type": "stream",
     "text": [
      "2\n"
     ]
    }
   ],
   "source": [
    "def mySqrt(x):\n",
    "    if x == 0:\n",
    "        return 0\n",
    "    first, last = 1, x\n",
    "    while first <= last:\n",
    "        mid = first + (last - first) // 2\n",
    "        if mid == x // mid:\n",
    "            return mid\n",
    "        elif mid > x // mid:\n",
    "            last = mid - 1\n",
    "        else:\n",
    "            first = mid + 1\n",
    "    return last\n",
    "x = 4\n",
    "print(mySqrt(x))"
   ]
  },
  {
   "cell_type": "markdown",
   "metadata": {},
   "source": [
    "<aside>\n",
    "💡 **Question 2**\n",
    "\n",
    "A peak element is an element that is strictly greater than its neighbors.\n",
    "\n",
    "Given a **0-indexed** integer array `nums`, find a peak element, and return its index. If the array contains multiple peaks, return the index to **any of the peaks**.\n",
    "\n",
    "You may imagine that `nums[-1] = nums[n] = -∞`. In other words, an element is always considered to be strictly greater than a neighbor that is outside the array.\n",
    "\n",
    "You must write an algorithm that runs in `O(log n)` time.\n",
    "\n",
    "</aside>"
   ]
  },
  {
   "cell_type": "code",
   "execution_count": 11,
   "metadata": {},
   "outputs": [
    {
     "name": "stdout",
     "output_type": "stream",
     "text": [
      "2\n"
     ]
    }
   ],
   "source": [
    "def findPeakElement(nums):\n",
    "    n = len(nums)\n",
    "    l, r = 0, n - 1\n",
    "    while l < r:\n",
    "        mid = (l + r) //2 \n",
    "        if nums[mid] < nums[mid + 1]:\n",
    "            l =  mid + 1\n",
    "        else:\n",
    "            r = mid \n",
    "    return l                  ## returning the index\n",
    "\n",
    "nums = [1,2,3,1]\n",
    "print(findPeakElement(nums))"
   ]
  },
  {
   "cell_type": "markdown",
   "metadata": {},
   "source": [
    "<aside>\n",
    "💡 **Question 3**\n",
    "\n",
    "****\n",
    "\n",
    "Given an array `nums` containing `n` distinct numbers in the range `[0, n]`, return *the only number in the range that is missing from the array.*\n",
    "\n",
    "</aside>"
   ]
  },
  {
   "cell_type": "code",
   "execution_count": 12,
   "metadata": {},
   "outputs": [
    {
     "name": "stdout",
     "output_type": "stream",
     "text": [
      "2\n"
     ]
    }
   ],
   "source": [
    "def missingNumber(nums):\n",
    "    nums.sort()\n",
    "    l,r = 0,len(nums)-1\n",
    "    while l <= r:\n",
    "        mid = (l+r) // 2\n",
    "        if nums[mid] == mid:\n",
    "            l = mid + 1\n",
    "        else:\n",
    "            r = mid - 1\n",
    "\n",
    "    return l\n",
    "nums = [3,0,1]\n",
    "print(missingNumber(nums))"
   ]
  },
  {
   "cell_type": "markdown",
   "metadata": {},
   "source": [
    "<aside>\n",
    "💡 **Question 4**\n",
    "\n",
    "Given an array of integers `nums` containing `n + 1` integers where each integer is in the range `[1, n]` inclusive.\n",
    "\n",
    "There is only **one repeated number** in `nums`, return *this repeated number*.\n",
    "\n",
    "You must solve the problem **without** modifying the array `nums` and uses only constant extra space.\n",
    "\n",
    "</aside>"
   ]
  },
  {
   "cell_type": "code",
   "execution_count": 13,
   "metadata": {},
   "outputs": [
    {
     "name": "stdout",
     "output_type": "stream",
     "text": [
      "2\n"
     ]
    }
   ],
   "source": [
    "def findDuplicate(nums):\n",
    "    nums.sort()\n",
    "    for i in range(len(nums)):\n",
    "        l, r = i + 1, len(nums) - 1\n",
    "        while l <= r:\n",
    "            mid = l + ((r - l) // 2)\n",
    "            if nums[i] == nums[mid]:\n",
    "                return nums[mid]\n",
    "            elif nums[i] <= nums[mid]:\n",
    "                r = mid - 1\n",
    "            else:\n",
    "                l = mid + 1\n",
    "    return nums[mid]\n",
    "nums = [1,3,4,2,2]\n",
    "print(findDuplicate(nums))"
   ]
  },
  {
   "cell_type": "markdown",
   "metadata": {},
   "source": [
    "<aside>\n",
    "💡 **Question 5**\n",
    "\n",
    "Given two integer arrays `nums1` and `nums2`, return *an array of their intersection*. Each element in the result must be **unique** and you may return the result in **any order**.\n",
    "\n",
    "**Example 1:**\n",
    "\n",
    "</aside>"
   ]
  },
  {
   "cell_type": "code",
   "execution_count": null,
   "metadata": {},
   "outputs": [],
   "source": [
    "def intersection(nums1,nums2):\n",
    "    if len(nums1) > len(nums2):\n",
    "        sorted_nums = sorted(nums1)\n",
    "        target_nums = nums2\n",
    "    else:\n",
    "        sorted_nums = sorted(nums2)\n",
    "        target_nums = nums1\n",
    "\n",
    "    def b_search(target):\n",
    "        left = 0\n",
    "        right = len(sorted_nums) - 1\n",
    "        if left == right:\n",
    "            return True\n",
    "        while left <= right:\n",
    "            mid = (left + right) // 2\n",
    "            if sorted_nums[mid] == target:\n",
    "                return True\n",
    "            if sorted_nums[mid] < target:\n",
    "                left = mid + 1\n",
    "            else:\n",
    "                right = mid - 1 \n",
    "            return False\n",
    "            \n",
    "    intersection = []\n",
    "    for num in target_nums:\n",
    "        if b_search(num):\n",
    "            intersection.append(num)\n",
    "\n",
    "    return list(set(intersection))\n",
    "\n",
    "a = [1,2,2,1]\n",
    "b = [2,2]\n",
    "print(intersection(a,b))"
   ]
  },
  {
   "cell_type": "markdown",
   "metadata": {},
   "source": [
    "<aside>\n",
    "💡 **Question 6**\n",
    "\n",
    "Suppose an array of length `n` sorted in ascending order is **rotated** between `1` and `n` times. For example, the array `nums = [0,1,2,4,5,6,7]` might become:\n",
    "\n",
    "- `[4,5,6,7,0,1,2]` if it was rotated `4` times.\n",
    "- `[0,1,2,4,5,6,7]` if it was rotated `7` times.\n",
    "\n",
    "Notice that **rotating** an array `[a[0], a[1], a[2], ..., a[n-1]]` 1 time results in the array `[a[n-1], a[0], a[1], a[2], ..., a[n-2]]`.\n",
    "\n",
    "Given the sorted rotated array `nums` of **unique** elements, return *the minimum element of this array*.\n",
    "\n",
    "You must write an algorithm that runs in `O(log n) time.`\n",
    "\n",
    "</aside>"
   ]
  },
  {
   "cell_type": "code",
   "execution_count": 23,
   "metadata": {},
   "outputs": [
    {
     "name": "stdout",
     "output_type": "stream",
     "text": [
      "1\n"
     ]
    }
   ],
   "source": [
    "def findMin(nums):\n",
    "    hi = len(nums) - 1\n",
    "    lo = 0\n",
    "    while hi-1>lo:\n",
    "        mid = (hi+lo) // 2\n",
    "        if nums[lo] > nums[mid]:\n",
    "            hi = mid\n",
    "        else:\n",
    "            lo = mid\n",
    "\n",
    "    if nums[hi] > nums[lo]:\n",
    "        return nums[0]\n",
    "    return nums[hi] \n",
    "nums = [3,4,5,1,2]\n",
    "print(findMin(nums))"
   ]
  },
  {
   "cell_type": "markdown",
   "metadata": {},
   "source": [
    "<aside>\n",
    "💡 **Question 7**\n",
    "\n",
    "Given an array of integers `nums` sorted in non-decreasing order, find the starting and ending position of a given `target` value.\n",
    "\n",
    "If `target` is not found in the array, return `[-1, -1]`.\n",
    "\n",
    "You must write an algorithm with `O(log n)` runtime complexity.\n",
    "\n",
    "</aside>"
   ]
  },
  {
   "cell_type": "code",
   "execution_count": 24,
   "metadata": {},
   "outputs": [
    {
     "name": "stdout",
     "output_type": "stream",
     "text": [
      "[3, 4]\n"
     ]
    }
   ],
   "source": [
    "def searchRange(nums,target):\n",
    "    start = 0; end = len(nums)-1\n",
    "    while start <= end:\n",
    "        mid = (start+end) // 2\n",
    "        if nums[start] == nums[end] == target:\n",
    "            return [start, end]\n",
    "        if nums[mid] < target:\n",
    "            start = mid+1\n",
    "        elif nums[mid] > target:\n",
    "            end = mid-1\n",
    "        else:\n",
    "            if nums[start] != target:\n",
    "                start += 1\n",
    "            if nums[end] != target:\n",
    "                end -= 1\n",
    "    return [-1,-1]\n",
    "nums = [5,7,7,8,8,10]\n",
    "target = 8\n",
    "print(searchRange(nums,target))"
   ]
  },
  {
   "cell_type": "markdown",
   "metadata": {},
   "source": [
    "<aside>\n",
    "💡 **Question 8**\n",
    "\n",
    "Given two integer arrays `nums1` and `nums2`, return *an array of their intersection*. Each element in the result must appear as many times as it shows in both arrays and you may return the result in **any order**.\n",
    "\n",
    "</aside>"
   ]
  },
  {
   "cell_type": "code",
   "execution_count": null,
   "metadata": {},
   "outputs": [],
   "source": [
    "def intersection(nums1,nums2):\n",
    "    if len(nums1) > len(nums2):\n",
    "        sorted_nums = sorted(nums1)\n",
    "        target_nums = nums2\n",
    "    else:\n",
    "        sorted_nums = sorted(nums2)\n",
    "        target_nums = nums1\n",
    "\n",
    "    def b_search(target):\n",
    "        left = 0\n",
    "        right = len(sorted_nums) - 1\n",
    "        if left == right:\n",
    "            return True\n",
    "        while left <= right:\n",
    "            mid = (left + right) // 2\n",
    "            if sorted_nums[mid] == target:\n",
    "                return True\n",
    "            if sorted_nums[mid] < target:\n",
    "                left = mid + 1\n",
    "            else:\n",
    "                right = mid - 1 \n",
    "            return False\n",
    "            \n",
    "    intersection = []\n",
    "    for num in target_nums:\n",
    "        if b_search(num):\n",
    "            intersection.append(num)\n",
    "\n",
    "    return list(set(intersection))\n",
    "\n",
    "a = [1,2,2,1]\n",
    "b = [2,2]\n",
    "print(intersection(a,b))"
   ]
  }
 ],
 "metadata": {
  "kernelspec": {
   "display_name": "Python 3",
   "language": "python",
   "name": "python3"
  },
  "language_info": {
   "codemirror_mode": {
    "name": "ipython",
    "version": 3
   },
   "file_extension": ".py",
   "mimetype": "text/x-python",
   "name": "python",
   "nbconvert_exporter": "python",
   "pygments_lexer": "ipython3",
   "version": "3.8.5"
  }
 },
 "nbformat": 4,
 "nbformat_minor": 4
}
