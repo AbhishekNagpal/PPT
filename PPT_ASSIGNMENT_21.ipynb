{
 "cells": [
  {
   "cell_type": "markdown",
   "metadata": {},
   "source": [
    "<aside>\n",
    "💡 Question-1\n",
    "\n",
    "You are given a binary tree. The binary tree is represented using the TreeNode class. Each TreeNode has an integer value and left and right children, represented using the TreeNode class itself. Convert this binary tree into a binary search tree.\n",
    "\n",
    "</aside>"
   ]
  },
  {
   "cell_type": "code",
   "execution_count": 25,
   "metadata": {},
   "outputs": [
    {
     "name": "stdout",
     "output_type": "stream",
     "text": [
      "5 10 15 20 30 "
     ]
    }
   ],
   "source": [
    "class Node:\n",
    "    def __init__(self, data):\n",
    "        self.data = data\n",
    "        self.left = None\n",
    "        self.right = None\n",
    "def storeInorder(root, inorder):\n",
    "    if root is None:\n",
    "        return\n",
    "    storeInorder(root.left, inorder)\n",
    "    inorder.append(root.data)\n",
    "    storeInorder(root.right, inorder)\n",
    "\n",
    "def countNodes(root):\n",
    "    if root is None:\n",
    "        return 0 \n",
    "    return countNodes(root.left) + countNodes(root.right) + 1\n",
    " \n",
    "def arrayToBST(arr, root):\n",
    "    if root is None:\n",
    "        return\n",
    "     \n",
    "    arrayToBST(arr, root.left)\n",
    " \n",
    "    root.data = arr[0]\n",
    "    arr.pop(0)\n",
    "    arrayToBST(arr, root.right)\n",
    "\n",
    "def binaryTreeToBST(root):\n",
    "    if root is None:\n",
    "        return\n",
    "    n = countNodes(root)\n",
    "    arr = []\n",
    "    storeInorder(root, arr)\n",
    "    arr.sort()\n",
    "    arrayToBST(arr, root)\n",
    "\n",
    "def printInorder(root):\n",
    "    if root is None:\n",
    "        return\n",
    "    printInorder(root.left)\n",
    "    print (root.data,end=\" \")\n",
    "    printInorder(root.right)\n",
    "\n",
    "root = Node(10)\n",
    "root.left = Node(30)\n",
    "root.right = Node(15)\n",
    "root.left.left = Node(20)\n",
    "root.right.right = Node(5)\n",
    " \n",
    "\n",
    "binaryTreeToBST(root)\n",
    "printInorder(root)"
   ]
  },
  {
   "cell_type": "markdown",
   "metadata": {},
   "source": [
    "<aside>\n",
    "💡 Question-2:\n",
    "\n",
    "Given a Binary Search Tree with all unique values and two keys. Find the distance between two nodes in BST. The given keys always exist in BST.\n",
    "\n",
    "</aside>"
   ]
  },
  {
   "cell_type": "code",
   "execution_count": 28,
   "metadata": {},
   "outputs": [
    {
     "name": "stdout",
     "output_type": "stream",
     "text": [
      "4\n"
     ]
    }
   ],
   "source": [
    "\n",
    "class newNode:\n",
    "    def __init__(self, data):\n",
    "        self.key = data\n",
    "        self.left = None\n",
    "        self.right = None\n",
    "\n",
    "def insert(root, key):\n",
    "    if root == None:\n",
    "        root = newNode(key)\n",
    "    elif root.key > key:\n",
    "        root.left = insert(root.left, key)\n",
    "    elif root.key < key:\n",
    "        root.right = insert(root.right, key)\n",
    "    return root\n",
    "\n",
    "def distanceFromRoot(root, x):\n",
    "    if root.key == x:\n",
    "        return 0\n",
    "    elif root.key > x:\n",
    "        return 1 + distanceFromRoot(root.left, x)\n",
    "    return 1 + distanceFromRoot(root.right, x)\n",
    "\n",
    "def distanceBetween2(root, a, b):\n",
    "    if root == None:\n",
    "        return 0\n",
    "    if root.key > a and root.key > b:\n",
    "        return distanceBetween2(root.left, a, b)\n",
    "    if root.key < a and root.key < b: \n",
    "        return distanceBetween2(root.right, a, b)\n",
    " \n",
    "    if root.key >= a and root.key <= b:\n",
    "        return (distanceFromRoot(root, a) +\n",
    "                distanceFromRoot(root, b))\n",
    "\n",
    "def findDistWrapper(root, a, b):\n",
    "    if a > b:\n",
    "        a, b = b, a\n",
    "    return distanceBetween2(root, a, b)\n",
    " \n",
    "if __name__ == '__main__':\n",
    "    root = None\n",
    "    root = insert(root, 20)\n",
    "    insert(root, 10)\n",
    "    insert(root, 5)\n",
    "    insert(root, 15)\n",
    "    insert(root, 30)\n",
    "    insert(root, 25)\n",
    "    insert(root, 35)\n",
    "    a, b = 5, 55\n",
    "    print(findDistWrapper(root, 5, 35))"
   ]
  },
  {
   "cell_type": "markdown",
   "metadata": {},
   "source": [
    "<aside>\n",
    "💡 Question-3:\n",
    "\n",
    "Write a program to convert a binary tree to a doubly linked list.\n",
    "\n",
    "</aside>"
   ]
  },
  {
   "cell_type": "code",
   "execution_count": null,
   "metadata": {},
   "outputs": [],
   "source": [
    "def BinaryTree2DoubleLinkedList(root):\n",
    "    if root is None:\n",
    "        return root\n",
    "    head = BinaryTree2DoubleLinkedList(root.left);\n",
    "    global prev\n",
    "      \n",
    "    if prev is None : \n",
    "        head = root\n",
    "          \n",
    "    else:\n",
    "        root.left = prev\n",
    "        prev.right = root\n",
    "\n",
    "    prev = root\n",
    "    BinaryTree2DoubleLinkedList(root.right);\n",
    "      \n",
    "    return head"
   ]
  },
  {
   "cell_type": "markdown",
   "metadata": {},
   "source": [
    "<aside>\n",
    "💡 Question-4:\n",
    "\n",
    "Write a program to connect nodes at the same level.\n",
    "\n",
    "</aside>"
   ]
  },
  {
   "cell_type": "code",
   "execution_count": null,
   "metadata": {},
   "outputs": [],
   "source": [
    "def connect(root):\n",
    "    if root is None:\n",
    "        return\n",
    "    queue = []\n",
    "    queue.append(root)\n",
    "    while len(queue) != 0:\n",
    "        size = len(queue)\n",
    "        prev = newnode(None)\n",
    "        for i in range(size):\n",
    "            temp = queue.pop(0)\n",
    "            if temp.left:\n",
    "                queue.append(temp.left)\n",
    "            if temp.right:\n",
    "                queue.append(temp.right)\n",
    "            if prev != None:\n",
    "                prev.nextRight = temp\n",
    "                prev = temp\n",
    "        prev.nextRight = None"
   ]
  }
 ],
 "metadata": {
  "kernelspec": {
   "display_name": "Python 3",
   "language": "python",
   "name": "python3"
  },
  "language_info": {
   "codemirror_mode": {
    "name": "ipython",
    "version": 3
   },
   "file_extension": ".py",
   "mimetype": "text/x-python",
   "name": "python",
   "nbconvert_exporter": "python",
   "pygments_lexer": "ipython3",
   "version": "3.8.5"
  }
 },
 "nbformat": 4,
 "nbformat_minor": 4
}
