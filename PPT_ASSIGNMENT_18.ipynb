{
 "cells": [
  {
   "cell_type": "markdown",
   "metadata": {},
   "source": [
    "<aside>\n",
    "💡 1. **Merge Intervals**\n",
    "\n",
    "Given an array of `intervals` where `intervals[i] = [starti, endi]`, merge all overlapping intervals, and return *an array of the non-overlapping intervals that cover all the intervals in the input*.\n",
    "\n",
    "</aside>"
   ]
  },
  {
   "cell_type": "code",
   "execution_count": null,
   "metadata": {},
   "outputs": [],
   "source": [
    "def merge(intervals):\n",
    "    intervals.sort(key=lambda x: x[0])\n",
    "    merged = []\n",
    "    for interval in intervals:\n",
    "        if not merged or merged[-1][1] < interval[0]:\n",
    "            merged.append(interval)\n",
    "        else:\n",
    "            merged[-1][1] = max(merged[-1][1], interval[1])\n",
    "    return merged"
   ]
  },
  {
   "cell_type": "markdown",
   "metadata": {},
   "source": [
    "<aside>\n",
    "💡 2. **Sort Colors**\n",
    "\n",
    "Given an array `nums` with `n` objects colored red, white, or blue, sort them **[in-place](https://en.wikipedia.org/wiki/In-place_algorithm)** so that objects of the same color are adjacent, with the colors in the order red, white, and blue.\n",
    "\n",
    "We will use the integers `0`, `1`, and `2` to represent the color red, white, and blue, respectively.\n",
    "\n",
    "You must solve this problem without using the library's sort function.\n",
    "\n",
    "**Example 1:**\n",
    "\n",
    "</aside>"
   ]
  },
  {
   "cell_type": "code",
   "execution_count": null,
   "metadata": {},
   "outputs": [],
   "source": [
    "def sortColors(arr):\n",
    "    c0 = 0\n",
    "    c1 = 0\n",
    "    c2 = 0\n",
    "    for i in range(len(arr)):\n",
    "        if (arr[i] == 0):\n",
    "            c0 += 1\n",
    "        if (arr[i] == 1):\n",
    "            c1 += 1\n",
    "        if (arr[i] == 2):\n",
    "            c2 += 1\n",
    "                \n",
    "    k=0\n",
    "    for i in range(c0):\n",
    "        arr[k] = 0\n",
    "        k += 1\n",
    "    for i in range(c1):\n",
    "        arr[k] = 1\n",
    "        k += 1\n",
    "    for i in range(c2):\n",
    "        arr[k] = 2\n",
    "        k += 1"
   ]
  },
  {
   "cell_type": "markdown",
   "metadata": {},
   "source": [
    "<aside>\n",
    "💡 3. **First Bad Version Solution**\n",
    "\n",
    "You are a product manager and currently leading a team to develop a new product. Unfortunately, the latest version of your product fails the quality check. Since each version is developed based on the previous version, all the versions after a bad version are also bad.\n",
    "\n",
    "Suppose you have `n` versions `[1, 2, ..., n]` and you want to find out the first bad one, which causes all the following ones to be bad.\n",
    "\n",
    "You are given an API `bool isBadVersion(version)` which returns whether `version` is bad. Implement a function to find the first bad version. You should minimize the number of calls to the API.\n",
    "\n",
    "</aside>"
   ]
  },
  {
   "cell_type": "code",
   "execution_count": null,
   "metadata": {},
   "outputs": [],
   "source": [
    "def firstBadVersion(self, n):\n",
    "    first = 0\n",
    "    last = n\n",
    "    while first <= last:\n",
    "        mid = (first+last)//2\n",
    "        if isBadVersion(mid):\n",
    "            if not isBadVersion(mid-1):\n",
    "                return mid\n",
    "            else:\n",
    "                last = mid - 1\n",
    "        else:\n",
    "            first = mid + 1\n",
    "        \n",
    "    return -1"
   ]
  },
  {
   "cell_type": "markdown",
   "metadata": {},
   "source": [
    "<aside>\n",
    "💡 4. **Maximum Gap**\n",
    "\n",
    "Given an integer array `nums`, return *the maximum difference between two successive elements in its sorted form*. If the array contains less than two elements, return `0`.\n",
    "\n",
    "You must write an algorithm that runs in linear time and uses linear extra space.\n",
    "\n",
    "</aside>"
   ]
  },
  {
   "cell_type": "code",
   "execution_count": null,
   "metadata": {},
   "outputs": [],
   "source": [
    "def maximumGap(nums):\n",
    "    if len(nums) < 2: return 0\n",
    "    hi, lo, ans = max(nums), min(nums), 0\n",
    "    bsize = (hi - lo) // (len(nums) - 1) or 1\n",
    "    buckets = [[] for _ in range(((hi - lo) // bsize) + 1)]\n",
    "    for n in nums:\n",
    "        buckets[(n - lo) // bsize].append(n)\n",
    "    currhi = 0\n",
    "    for b in buckets:\n",
    "        if not len(b): continue\n",
    "        prevhi, currlo = currhi or b[0], b[0]\n",
    "        for n in b: \n",
    "            currhi, currlo = max(currhi, n), min(currlo, n)\n",
    "        ans = max(ans, currlo - prevhi)\n",
    "    return ans"
   ]
  },
  {
   "cell_type": "markdown",
   "metadata": {},
   "source": [
    "<aside>\n",
    "💡 5. **Contains Duplicate**\n",
    "\n",
    "Given an integer array `nums`, return `true` if any value appears **at least twice** in the array, and return `false` if every element is distinct.\n",
    "\n",
    "</aside>"
   ]
  },
  {
   "cell_type": "code",
   "execution_count": null,
   "metadata": {},
   "outputs": [],
   "source": [
    "def checkDuplicatesWithinK(arr,  n,  k):\n",
    "    for i in range(n):\n",
    "        j = i + 1\n",
    "        range_ = k\n",
    "        while (range_ > 0 and j < n):\n",
    "            if (arr[i] == arr[j]):\n",
    "                return True\n",
    "            j += 1\n",
    "            range_ -= 1\n",
    " \n",
    "    return False"
   ]
  },
  {
   "cell_type": "markdown",
   "metadata": {},
   "source": [
    "<aside>\n",
    "💡 6. **Minimum Number of Arrows to Burst Balloons**\n",
    "\n",
    "There are some spherical balloons taped onto a flat wall that represents the XY-plane. The balloons are represented as a 2D integer array `points` where `points[i] = [xstart, xend]` denotes a balloon whose **horizontal diameter** stretches between `xstart` and `xend`. You do not know the exact y-coordinates of the balloons.\n",
    "\n",
    "Arrows can be shot up **directly vertically** (in the positive y-direction) from different points along the x-axis. A balloon with `xstart` and `xend` is **burst** by an arrow shot at `x` if `xstart <= x <= xend`. There is **no limit** to the number of arrows that can be shot. A shot arrow keeps traveling up infinitely, bursting any balloons in its path.\n",
    "\n",
    "Given the array `points`, return *the **minimum** number of arrows that must be shot to burst all balloons*.\n",
    "\n",
    "</aside>"
   ]
  },
  {
   "cell_type": "code",
   "execution_count": null,
   "metadata": {},
   "outputs": [],
   "source": [
    "def findMinArrowShots(self, points: List[List[int]]) -> int:\n",
    "    n = len(points)\n",
    "    points.sort()\n",
    "    ans = 1\n",
    "    top = points[0][1]\n",
    "    for i in range(1,n):\n",
    "        if points[i][0]<=top:\n",
    "            top = min(top,points[i][1])\n",
    "        else:\n",
    "            top=points[i][1]\n",
    "            ans += 1\n",
    "    return ans"
   ]
  },
  {
   "cell_type": "markdown",
   "metadata": {},
   "source": [
    "<aside>\n",
    "💡 7. **Longest Increasing Subsequence**\n",
    "\n",
    "Given an integer array `nums`, return *the length of the longest **strictly increasing***\n",
    "\n",
    "***subsequence***\n",
    "\n",
    "</aside>"
   ]
  },
  {
   "cell_type": "code",
   "execution_count": null,
   "metadata": {},
   "outputs": [],
   "source": [
    "def lengthOfLIS(self, nums):\n",
    "    if nums == None or len(nums) == 0:\n",
    "        return 0\n",
    "        \n",
    "    length = len(nums)\n",
    "    dp = [1] * length\n",
    "    maximum = 1\n",
    "        \n",
    "    for i in range(length):\n",
    "        for j in range(i):\n",
    "            if nums[i] > nums[j]:\n",
    "                dp[i] = max(dp[i], dp[j] + 1)\n",
    "            maximum = max(maximum, dp[i])\n",
    "            \n",
    "    return maximum"
   ]
  },
  {
   "cell_type": "markdown",
   "metadata": {},
   "source": [
    "<aside>\n",
    "💡 8. **132 Pattern**\n",
    "\n",
    "Given an array of `n` integers `nums`, a **132 pattern** is a subsequence of three integers `nums[i]`, `nums[j]` and `nums[k]` such that `i < j < k` and `nums[i] < nums[k] < nums[j]`.\n",
    "\n",
    "Return `true` *if there is a **132 pattern** in* `nums`*, otherwise, return* `false`*.*\n",
    "\n",
    "</aside>"
   ]
  },
  {
   "cell_type": "code",
   "execution_count": null,
   "metadata": {},
   "outputs": [],
   "source": [
    "def recreationalSpot(arr, n) :\n",
    "    small = []\n",
    "    min1 = arr[0];\n",
    "    for i in range(n) :\n",
    "        if (min1 >= arr[i]) :\n",
    "            min1 = arr[i]\n",
    "            small.append(-1)\n",
    "             \n",
    "        else :\n",
    "            small.append(min1)\n",
    "    s = []\n",
    "    for i in range(n - 1, 0, -1) :\n",
    "        while (len(s) != 0 and s[-1] <= small[i]) :\n",
    "            s.pop()\n",
    "        if (len(s) != 0 and small[i] != -1 and s[-1] < arr[i]) :\n",
    "            return True\n",
    "             \n",
    "        s.append(arr[i])\n",
    " \n",
    "    return False"
   ]
  }
 ],
 "metadata": {
  "kernelspec": {
   "display_name": "Python 3",
   "language": "python",
   "name": "python3"
  },
  "language_info": {
   "codemirror_mode": {
    "name": "ipython",
    "version": 3
   },
   "file_extension": ".py",
   "mimetype": "text/x-python",
   "name": "python",
   "nbconvert_exporter": "python",
   "pygments_lexer": "ipython3",
   "version": "3.8.5"
  }
 },
 "nbformat": 4,
 "nbformat_minor": 4
}
