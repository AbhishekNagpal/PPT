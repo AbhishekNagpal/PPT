{
 "cells": [
  {
   "cell_type": "markdown",
   "metadata": {},
   "source": [
    "<aside>\n",
    "💡 **Question 1**\n",
    "\n",
    "Given two linked list of the same size, the task is to create a new linked list using those linked lists. The condition is that the greater node among both linked list will be added to the new linked list.\n",
    "\n",
    "</aside>"
   ]
  },
  {
   "cell_type": "code",
   "execution_count": null,
   "metadata": {},
   "outputs": [],
   "source": [
    "def newList(root1, root2):\n",
    " \n",
    "    ptr1 = root1\n",
    "    ptr2 = root2\n",
    "    root = None\n",
    "    while (ptr1 != None) :\n",
    "        temp = Node(0)\n",
    "        temp.next = None\n",
    "        if (ptr1.data < ptr2.data):\n",
    "            temp.data = ptr2.data\n",
    "        else:\n",
    "            temp.data = ptr1.data\n",
    " \n",
    "        if (root == None):\n",
    "            root = temp\n",
    "        else :\n",
    "            ptr = root\n",
    "            while (ptr.next != None):\n",
    "                ptr = ptr.next\n",
    " \n",
    "            ptr.next = temp\n",
    "         \n",
    "        ptr1 = ptr1.next\n",
    "        ptr2 = ptr2.next\n",
    "     \n",
    "    return root"
   ]
  },
  {
   "cell_type": "markdown",
   "metadata": {},
   "source": [
    "<aside>\n",
    "💡 **Question 2**\n",
    "\n",
    "Write a function that takes a list sorted in non-decreasing order and deletes any duplicate nodes from the list. The list should only be traversed once.\n",
    "\n",
    "For example if the linked list is 11->11->11->21->43->43->60 then removeDuplicates() should convert the list to 11->21->43->60.\n",
    "\n",
    "</aside>"
   ]
  },
  {
   "cell_type": "code",
   "execution_count": null,
   "metadata": {},
   "outputs": [],
   "source": [
    "def removeDuplicates(self):\n",
    "    temp = self.head\n",
    "    if temp is None:\n",
    "        return\n",
    "    while temp.next is not None:\n",
    "        if temp.data == temp.next.data:\n",
    "            new = temp.next.next\n",
    "            temp.next = None\n",
    "            temp.next = new\n",
    "        else:\n",
    "            temp = temp.next\n",
    "    return self.head"
   ]
  },
  {
   "cell_type": "markdown",
   "metadata": {},
   "source": [
    "<aside>\n",
    "💡 **Question 3**\n",
    "\n",
    "Given a linked list of size **N**. The task is to reverse every **k** nodes (where k is an input to the function) in the linked list. If the number of nodes is not a multiple of *k* then left-out nodes, in the end, should be considered as a group and must be reversed (See Example 2 for clarification).\n",
    "\n",
    "</aside>"
   ]
  },
  {
   "cell_type": "code",
   "execution_count": null,
   "metadata": {},
   "outputs": [],
   "source": [
    "def reverse(self, head, k):\n",
    "    if head == None:\n",
    "        return None\n",
    "    current = head\n",
    "    next = None\n",
    "    prev = None\n",
    "    count = 0\n",
    "    while(current is not None and count < k):\n",
    "        next = current.next\n",
    "        current.next = prev\n",
    "        prev = current\n",
    "        current = next\n",
    "        count += 1\n",
    "    if next is not None:\n",
    "        head.next = self.reverse(next, k)\n",
    "  \n",
    "        \n",
    "    return prev"
   ]
  },
  {
   "cell_type": "markdown",
   "metadata": {},
   "source": [
    "<aside>\n",
    "💡 **Question 4**\n",
    "\n",
    "Given a linked list, write a function to reverse every alternate k nodes (where k is an input to the function) in an efficient way. Give the complexity of your algorithm.\n",
    "\n",
    "</aside>"
   ]
  },
  {
   "cell_type": "code",
   "execution_count": null,
   "metadata": {},
   "outputs": [],
   "source": [
    "def AlternateReverse(head, k) :\n",
    "    current = head\n",
    "    next = None\n",
    "    prev = None\n",
    "    count = 0\n",
    "    while (current != None and count < k) :\n",
    "        next = current.next\n",
    "        current.next = prev\n",
    "        prev = current\n",
    "        current = next\n",
    "        count = count + 1;\n",
    "    if(head != None):\n",
    "        head.next = current\n",
    "    count = 0\n",
    "    while(count < k - 1 and current != None ):\n",
    "        current = current.next\n",
    "        count = count + 1\n",
    "\n",
    "    if(current != None):\n",
    "        current.next = kAltReverse(current.next, k)\n",
    "\n",
    "    return prev"
   ]
  },
  {
   "cell_type": "markdown",
   "metadata": {},
   "source": [
    "<aside>\n",
    "💡 **Question 5**\n",
    "\n",
    "Given a linked list and a key to be deleted. Delete last occurrence of key from linked. The list may have duplicates.\n",
    "\n",
    "</aside>"
   ]
  },
  {
   "cell_type": "code",
   "execution_count": null,
   "metadata": {},
   "outputs": [],
   "source": [
    "def deleteLast(head, x):\n",
    "    temp = head\n",
    "    ptr = None\n",
    "      \n",
    "    while (temp != None): \n",
    "        if (temp.data == x):\n",
    "            ptr = temp     \n",
    "            temp = temp.next\n",
    "\n",
    "    if (ptr != None and ptr.next == None): \n",
    "        temp = head\n",
    "        while (temp.next != ptr):\n",
    "            temp = temp.next\n",
    "              \n",
    "        temp.next = None\n",
    "    if (ptr != None and ptr.next != None): \n",
    "        ptr.data = ptr.next.data\n",
    "        temp = ptr.next\n",
    "        ptr.next = ptr.next.next\n",
    "          \n",
    "    return head"
   ]
  },
  {
   "cell_type": "markdown",
   "metadata": {},
   "source": [
    "<aside>\n",
    "💡 **Question 6**\n",
    "\n",
    "Given two sorted linked lists consisting of **N** and **M** nodes respectively. The task is to merge both of the lists (in place) and return the head of the merged list.\n",
    "\n",
    "</aside>"
   ]
  },
  {
   "cell_type": "code",
   "execution_count": null,
   "metadata": {},
   "outputs": [],
   "source": [
    "def mergeTwoLists(l1,l2):\n",
    "    if l1 == None:\n",
    "        return l2\n",
    "    if l2 == None:\n",
    "        return l1\n",
    "    if (l1.val<=l2.val):\n",
    "        l1.next = Solution.mergeTwoLists(self,l1.next,l2)\n",
    "        return l1\n",
    "\n",
    "    else:\n",
    "        l2.next = Solution.mergeTwoLists(self,l1,l2.next)\n",
    "        return l2"
   ]
  },
  {
   "cell_type": "markdown",
   "metadata": {},
   "source": [
    "<aside>\n",
    "💡 **Question 7**\n",
    "\n",
    "Given a **Doubly Linked List**, the task is to reverse the given Doubly Linked List.\n",
    "\n",
    "</aside>"
   ]
  },
  {
   "cell_type": "code",
   "execution_count": null,
   "metadata": {},
   "outputs": [],
   "source": [
    "def reverse(self):\n",
    "    temp = None\n",
    "    current = self.head\n",
    "    while current is not None:\n",
    "        temp = current.prev\n",
    "        current.prev = current.next\n",
    "        current.next = temp\n",
    "        current = current.prev\n",
    "\n",
    "    if temp is not None:\n",
    "        self.head = temp.prev"
   ]
  },
  {
   "cell_type": "markdown",
   "metadata": {},
   "source": [
    "<aside>\n",
    "💡 **Question 8**\n",
    "\n",
    "Given a doubly linked list and a position. The task is to delete a node from given position in a doubly linked list.\n",
    "\n",
    "</aside>"
   ]
  },
  {
   "cell_type": "code",
   "execution_count": null,
   "metadata": {},
   "outputs": [],
   "source": [
    "def delete(self, position):     \n",
    "    if(position < 1):\n",
    "        return None\n",
    "    elif (position == 1 and self.head != None):\n",
    "        nodeToDelete = self.head\n",
    "        self.head = self.head.next\n",
    "        nodeToDelete = None\n",
    "        if (self.head != None):\n",
    "            self.head.prev = None\n",
    "            \n",
    "    else:    \n",
    "        temp = self.head\n",
    "        for i in range(1, position-1):\n",
    "            if(temp != None):\n",
    "                temp = temp.next   \n",
    "                \n",
    "        if(temp != None and temp.next != None):\n",
    "            nodeToDelete = temp.next\n",
    "            temp.next = temp.next.next\n",
    "            if(temp.next.next != None):\n",
    "                temp.next.next.prev = temp.next  \n",
    "            nodeToDelete = None \n",
    "        "
   ]
  }
 ],
 "metadata": {
  "kernelspec": {
   "display_name": "Python 3",
   "language": "python",
   "name": "python3"
  },
  "language_info": {
   "codemirror_mode": {
    "name": "ipython",
    "version": 3
   },
   "file_extension": ".py",
   "mimetype": "text/x-python",
   "name": "python",
   "nbconvert_exporter": "python",
   "pygments_lexer": "ipython3",
   "version": "3.8.5"
  }
 },
 "nbformat": 4,
 "nbformat_minor": 4
}
