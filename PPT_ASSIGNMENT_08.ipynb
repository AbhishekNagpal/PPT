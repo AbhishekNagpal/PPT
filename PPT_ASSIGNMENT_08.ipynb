{
 "cells": [
  {
   "cell_type": "markdown",
   "metadata": {},
   "source": [
    "<aside>\n",
    "💡 **Question 1**\n",
    "\n",
    "Given two strings s1 and s2, return *the lowest **ASCII** sum of deleted characters to make two strings equal*.\n",
    "\n",
    "**Example 1:**\n",
    "\n",
    "**Input:** s1 = \"sea\", s2 = \"eat\"\n",
    "\n",
    "**Output:** 231\n",
    "\n",
    "</aside>"
   ]
  },
  {
   "cell_type": "code",
   "execution_count": 1,
   "metadata": {},
   "outputs": [
    {
     "name": "stdout",
     "output_type": "stream",
     "text": [
      "231\n"
     ]
    }
   ],
   "source": [
    "def minimumDeleteSum(s1,s2):\n",
    "    n, m = len(s1), len(s2)\n",
    "    prev = [0] * (m+1)\n",
    "    cur = prev.copy()\n",
    "    for i in range(n):\n",
    "        for j in range(m):\n",
    "            if s1[i] == s2[j]:\n",
    "                cur[j+1] = prev[j] + ord(s1[i])\n",
    "            else:\n",
    "                cur[j+1] = max(cur[j], prev[j+1])\n",
    "        prev, cur = cur, prev\n",
    "    return sum(map(ord, s1+s2)) - 2 * prev[-1]\n",
    "s1 = \"sea\"\n",
    "s2 = \"eat\"\n",
    "print(minimumDeleteSum(s1,s2))"
   ]
  },
  {
   "cell_type": "markdown",
   "metadata": {},
   "source": [
    "<aside>\n",
    "💡 **Question 2**\n",
    "\n",
    "Given a string s containing only three types of characters: '(', ')' and '*', return true *if* s *is **valid***.\n",
    "\n",
    "The following rules define a **valid** string:\n",
    "\n",
    "- Any left parenthesis '(' must have a corresponding right parenthesis ')'.\n",
    "- Any right parenthesis ')' must have a corresponding left parenthesis '('.\n",
    "- Left parenthesis '(' must go before the corresponding right parenthesis ')'.\n",
    "- '*' could be treated as a single right parenthesis ')' or a single left parenthesis '(' or an empty string \"\".\n",
    "\n",
    "**Example 1:**\n",
    "\n",
    "**Input:** s = \"()\"\n",
    "\n",
    "</aside>"
   ]
  },
  {
   "cell_type": "code",
   "execution_count": 2,
   "metadata": {},
   "outputs": [
    {
     "name": "stdout",
     "output_type": "stream",
     "text": [
      "True\n"
     ]
    }
   ],
   "source": [
    "def checkValidString(s):\n",
    "    leftMin, leftMax = 0, 0\n",
    "\n",
    "    for c in s:\n",
    "        if c == \"(\":\n",
    "            leftMin += 1\n",
    "            leftMax += 1\n",
    "        elif c == \")\":\n",
    "            leftMin -= 1\n",
    "            leftMax -= 1\n",
    "        else:\n",
    "            leftMin -= 1\n",
    "            leftMax += 1\n",
    "            \n",
    "        if leftMax < 0:\n",
    "            return False\n",
    "        elif leftMin < 0:\n",
    "            leftMin = 0\n",
    "        \n",
    "    return leftMin == 0\n",
    "s = \"()\"\n",
    "print(checkValidString(s))"
   ]
  },
  {
   "cell_type": "markdown",
   "metadata": {},
   "source": [
    "<aside>\n",
    "💡 **Question 3**\n",
    "\n",
    "Given two strings word1 and word2, return *the minimum number of **steps** required to make* word1 *and* word2 *the same*.\n",
    "\n",
    "In one **step**, you can delete exactly one character in either string.\n",
    "\n",
    "**Example 1:**\n",
    "\n",
    "**Input:** word1 = \"sea\", word2 = \"eat\"\n",
    "\n",
    "**Output:** 2\n",
    "\n",
    "</aside>"
   ]
  },
  {
   "cell_type": "code",
   "execution_count": 3,
   "metadata": {},
   "outputs": [
    {
     "name": "stdout",
     "output_type": "stream",
     "text": [
      "2\n"
     ]
    }
   ],
   "source": [
    "def minDistance(word1,word2):\n",
    "    n1, n2 = len(word1) + 1, len(word2) + 1\n",
    "    t = []\n",
    "    for i in range(n1):\n",
    "        t.append([0]*n2)\n",
    "    for x in range(n2): \n",
    "        t[0][x] = x\n",
    "    for y in range(n1): \n",
    "        t[y][0] = y\n",
    "    \n",
    "    y, py = 1, 0\n",
    "    while y != n1 :\n",
    "        x, px = 1, 0\n",
    "        while x != n2 :\n",
    "            add = 0\n",
    "            if word1[py] != word2[px] : \n",
    "                add = 2\n",
    "            t[y][x] = min(t[py][px] + add, min(t[y][px] + 1, t[py][x] + 1))\n",
    "            x  += 1\n",
    "            px += 1\n",
    "        y  += 1\n",
    "        py += 1      \n",
    "    return t[n1-1][n2-1]\n",
    "word1 = \"sea\"\n",
    "word2 = \"eat\"\n",
    "print(minDistance(word1,word2))"
   ]
  },
  {
   "cell_type": "markdown",
   "metadata": {},
   "source": [
    "<aside>\n",
    "💡 **Question 4**\n",
    "\n",
    "You need to construct a binary tree from a string consisting of parenthesis and integers.\n",
    "\n",
    "The whole input represents a binary tree. It contains an integer followed by zero, one or two pairs of parenthesis. The integer represents the root's value and a pair of parenthesis contains a child binary tree with the same structure.\n",
    "You always start to construct the **left** child node of the parent first if it exists.\n",
    "\n",
    "</aside>"
   ]
  },
  {
   "cell_type": "code",
   "execution_count": null,
   "metadata": {},
   "outputs": [],
   "source": [
    "class Solution:\n",
    "    def tree2str(self, root: Optional[TreeNode]) -> str:\n",
    "        ans = str(root.val)\n",
    "        if root.left:\n",
    "            ans += '(' + self.tree2str(root.left) + ')'\n",
    "        if root.right:\n",
    "            if not root.left:\n",
    "                ans += '()'\n",
    "            ans+= '(' + self.tree2str(root.right) + \")\"\n",
    "        return ans"
   ]
  },
  {
   "cell_type": "markdown",
   "metadata": {},
   "source": [
    "<aside>\n",
    "💡 **Question 5**\n",
    "\n",
    "Given an array of characters chars, compress it using the following algorithm:\n",
    "\n",
    "Begin with an empty string s. For each group of **consecutive repeating characters** in chars:\n",
    "\n",
    "- If the group's length is 1, append the character to s.\n",
    "- Otherwise, append the character followed by the group's length.\n",
    "\n",
    "The compressed string s **should not be returned separately**, but instead, be stored **in the input character array chars**. Note that group lengths that are 10 or longer will be split into multiple characters in chars.\n",
    "\n",
    "After you are done **modifying the input array,** return *the new length of the array*.\n",
    "\n",
    "You must write an algorithm that uses only constant extra space.\n",
    "\n",
    "**Example 1:**\n",
    "\n",
    "**Input:** chars = [\"a\",\"a\",\"b\",\"b\",\"c\",\"c\",\"c\"]\n",
    "\n",
    "**Output:** Return 6, and the first 6 characters of the input array should be: [\"a\",\"2\",\"b\",\"2\",\"c\",\"3\"]\n",
    "\n",
    "</aside>"
   ]
  },
  {
   "cell_type": "code",
   "execution_count": 4,
   "metadata": {},
   "outputs": [
    {
     "name": "stdout",
     "output_type": "stream",
     "text": [
      "6\n"
     ]
    }
   ],
   "source": [
    "def compress(chars):\n",
    "    n = len(chars)\n",
    "    if n == 1:\n",
    "        return 1\n",
    "        \n",
    "    i = 0\n",
    "    j = 0\n",
    "        \n",
    "    while i < n:\n",
    "        count = 1\n",
    "        while i < n - 1 and chars[i] == chars[i+1]:\n",
    "            count += 1\n",
    "            i += 1\n",
    "            \n",
    "        chars[j] = chars[i]\n",
    "        j += 1\n",
    "            \n",
    "        if count > 1:\n",
    "            for c in str(count):\n",
    "                chars[j] = c\n",
    "                j += 1\n",
    "            \n",
    "        i += 1\n",
    "        \n",
    "    return j\n",
    "chars = [\"a\",\"a\",\"b\",\"b\",\"c\",\"c\",\"c\"]\n",
    "print(compress(chars))"
   ]
  },
  {
   "cell_type": "code",
   "execution_count": null,
   "metadata": {},
   "outputs": [],
   "source": []
  }
 ],
 "metadata": {
  "kernelspec": {
   "display_name": "Python 3",
   "language": "python",
   "name": "python3"
  },
  "language_info": {
   "codemirror_mode": {
    "name": "ipython",
    "version": 3
   },
   "file_extension": ".py",
   "mimetype": "text/x-python",
   "name": "python",
   "nbconvert_exporter": "python",
   "pygments_lexer": "ipython3",
   "version": "3.8.5"
  }
 },
 "nbformat": 4,
 "nbformat_minor": 4
}
