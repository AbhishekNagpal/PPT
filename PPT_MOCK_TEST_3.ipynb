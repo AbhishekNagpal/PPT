{
 "cells": [
  {
   "cell_type": "markdown",
   "metadata": {},
   "source": [
    "Implement a stack using a list in Python. Include the necessary methods such as push, pop, and isEmpty."
   ]
  },
  {
   "cell_type": "code",
   "execution_count": 3,
   "metadata": {},
   "outputs": [
    {
     "name": "stdout",
     "output_type": "stream",
     "text": [
      "False\n",
      "[10, 11]\n"
     ]
    }
   ],
   "source": [
    "s = []\n",
    "def append(s,ele):\n",
    "    s.append(ele)\n",
    "def pop(s):\n",
    "    s.pop()\n",
    "def isEmpty(s):\n",
    "    if s == []:\n",
    "        return True\n",
    "    else:\n",
    "        return False\n",
    "    \n",
    "append(s,10)\n",
    "append(s,11)\n",
    "append(s,12)\n",
    "pop(s)\n",
    "print(isEmpty(s))\n",
    "print(s)"
   ]
  },
  {
   "cell_type": "markdown",
   "metadata": {},
   "source": [
    "Implement a queue using a list in Python. Include the necessary methods such as enqueue, dequeue, and isEmpty."
   ]
  },
  {
   "cell_type": "code",
   "execution_count": 4,
   "metadata": {},
   "outputs": [
    {
     "name": "stdout",
     "output_type": "stream",
     "text": [
      "False\n",
      "[11, 10]\n"
     ]
    }
   ],
   "source": [
    "s = []\n",
    "def append(s,ele):\n",
    "    s.insert(0,ele)\n",
    "def pop(s):\n",
    "    s.pop(0)\n",
    "def isEmpty(s):\n",
    "    if s == []:\n",
    "        return True\n",
    "    else:\n",
    "        return False\n",
    "    \n",
    "append(s,10)\n",
    "append(s,11)\n",
    "append(s,12)\n",
    "pop(s)\n",
    "print(isEmpty(s))\n",
    "print(s)"
   ]
  },
  {
   "cell_type": "code",
   "execution_count": null,
   "metadata": {},
   "outputs": [],
   "source": []
  }
 ],
 "metadata": {
  "kernelspec": {
   "display_name": "Python 3",
   "language": "python",
   "name": "python3"
  },
  "language_info": {
   "codemirror_mode": {
    "name": "ipython",
    "version": 3
   },
   "file_extension": ".py",
   "mimetype": "text/x-python",
   "name": "python",
   "nbconvert_exporter": "python",
   "pygments_lexer": "ipython3",
   "version": "3.8.5"
  }
 },
 "nbformat": 4,
 "nbformat_minor": 4
}
