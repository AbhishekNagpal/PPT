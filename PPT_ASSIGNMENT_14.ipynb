{
 "cells": [
  {
   "cell_type": "markdown",
   "metadata": {},
   "source": [
    "<aside>\n",
    "💡 **Question 1**\n",
    "\n",
    "Given a linked list of **N** nodes such that it may contain a loop.\n",
    "\n",
    "A loop here means that the last node of the link list is connected to the node at position X(1-based index). If the link list does not have any loop, X=0.\n",
    "\n",
    "Remove the loop from the linked list, if it is present, i.e. unlink the last node which is forming the loop.\n",
    "\n",
    "</aside>"
   ]
  },
  {
   "cell_type": "code",
   "execution_count": null,
   "metadata": {},
   "outputs": [],
   "source": [
    "def removeCycle(slow, head):\n",
    "    curr = head\n",
    "    while curr:\n",
    "        ptr = slow\n",
    "        while ptr.next is not slow and ptr.next is not curr:\n",
    "            ptr = ptr.next\n",
    " \n",
    "        if ptr.next == curr:\n",
    "            ptr.next = None\n",
    "            return\n",
    " \n",
    "        curr = curr.next\n",
    " \n",
    " \n",
    "def identifyCycle(head):\n",
    "    slow = fast = head\n",
    " \n",
    "    while fast and fast.next:\n",
    "        slow = slow.next\n",
    "        fast = fast.next.next\n",
    "        if slow == fast:\n",
    "            return slow\n",
    " \n",
    "    return None"
   ]
  },
  {
   "cell_type": "markdown",
   "metadata": {},
   "source": [
    "<aside>\n",
    "💡 **Question 6**\n",
    "\n",
    "Given a singly linked list of size **N**. The task is to **left-shift** the linked list by **k** nodes, where **k** is a given positive integer smaller than or equal to length of the linked list.\n",
    "\n",
    "</aside>"
   ]
  },
  {
   "cell_type": "code",
   "execution_count": null,
   "metadata": {},
   "outputs": [],
   "source": [
    "def rotateRight(self, head: Optional[ListNode], k: int) -> Optional[ListNode]:\n",
    "    if k == 0:\n",
    "        return \n",
    "    current = head\n",
    "    count = 1\n",
    "    while(count < k and current is not None):\n",
    "        current = current.next\n",
    "        count += 1\n",
    "\n",
    "    if current is None:\n",
    "        return\n",
    "\n",
    "    kthNode = current\n",
    "    while(current.next is not None):\n",
    "        current = current.next\n",
    "  \n",
    "    \n",
    "    current.next = head\n",
    "    head = kthNode.next\n",
    "    kthNode.next = None\n",
    "    return head"
   ]
  }
 ],
 "metadata": {
  "kernelspec": {
   "display_name": "Python 3",
   "language": "python",
   "name": "python3"
  },
  "language_info": {
   "codemirror_mode": {
    "name": "ipython",
    "version": 3
   },
   "file_extension": ".py",
   "mimetype": "text/x-python",
   "name": "python",
   "nbconvert_exporter": "python",
   "pygments_lexer": "ipython3",
   "version": "3.8.5"
  }
 },
 "nbformat": 4,
 "nbformat_minor": 4
}
