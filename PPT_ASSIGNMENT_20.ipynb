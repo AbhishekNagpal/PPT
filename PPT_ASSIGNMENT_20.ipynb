{
 "cells": [
  {
   "cell_type": "markdown",
   "metadata": {},
   "source": [
    "<aside>\n",
    "💡 Question-1\n",
    "\n",
    "Given a binary tree, your task is to find subtree with maximum sum in tree.\n",
    "\n",
    "</aside>"
   ]
  },
  {
   "cell_type": "code",
   "execution_count": null,
   "metadata": {},
   "outputs": [],
   "source": [
    "def findLargestSubtreeSumUtil(root, ans):\n",
    "    if (root == None):\n",
    "        return 0\n",
    "    currSum = (root.key +\n",
    "               findLargestSubtreeSumUtil(root.left, ans) +\n",
    "               findLargestSubtreeSumUtil(root.right, ans))\n",
    "    ans[0] = max(ans[0], currSum)\n",
    "    return currSum\n",
    "def findLargestSubtreeSum(root):\n",
    "    if (root == None):    \n",
    "        return 0\n",
    "    ans = [-999999999999]\n",
    "    findLargestSubtreeSumUtil(root, ans)\n",
    " \n",
    "    return ans[0]\n"
   ]
  },
  {
   "cell_type": "markdown",
   "metadata": {},
   "source": [
    "<aside>\n",
    "💡 Question-2\n",
    "\n",
    "Construct the BST (Binary Search Tree) from its given level order traversal.\n",
    "\n",
    "</aside>"
   ]
  },
  {
   "cell_type": "code",
   "execution_count": null,
   "metadata": {},
   "outputs": [],
   "source": [
    "def LevelOrder(root, data):\n",
    "    if(root == None):\n",
    "        root = getNode(data)\n",
    "        return root\n",
    " \n",
    "    if(data <= root.data):\n",
    "        root.left = LevelOrder(root.left, data)\n",
    "    else:\n",
    "        root.right = LevelOrder(root.right, data)\n",
    "    return root\n",
    " \n",
    "def constructBst(arr, n):\n",
    "    if(n == 0):\n",
    "        return None\n",
    "    root = None\n",
    " \n",
    "    for i in range(0, n):\n",
    "        root = LevelOrder(root, arr[i])\n",
    " \n",
    "    return root"
   ]
  },
  {
   "cell_type": "markdown",
   "metadata": {},
   "source": [
    "<aside>\n",
    "💡 Question-3\n",
    "\n",
    "Given an array of size n. The problem is to check whether the given array can represent the level order traversal of a Binary Search Tree or not.\n",
    "\n",
    "</aside>"
   ]
  },
  {
   "cell_type": "code",
   "execution_count": null,
   "metadata": {},
   "outputs": [],
   "source": [
    "def levelOrderIsOfBST(arr, n):\n",
    "    if n == 0:\n",
    "        return True\n",
    "    q = []\n",
    "    i = 0\n",
    "    newNode = NodeDetails(arr[i], INT_MIN, INT_MAX)\n",
    "    i += 1\n",
    "    q.append(newNode)\n",
    "    while i != n and len(q) != 0:    \n",
    "\n",
    "        temp = q.pop(0)\n",
    "        if i < n and (arr[i] < temp.data and\n",
    "                    arr[i] > temp.min):\n",
    "            newNode = NodeDetails(arr[i], temp.min, temp.data)\n",
    "            i += 1\n",
    "            q.append(newNode)            \n",
    "        if i < n and (arr[i] > temp.data and\n",
    "                    arr[i] < temp.max):\n",
    "            newNode = NodeDetails(arr[i], temp.data, temp.max)\n",
    "            i += 1\n",
    "            q.append(newNode)        \n",
    "                 \n",
    "\n",
    "    if i == n:\n",
    "        return True\n",
    " \n",
    "    return False"
   ]
  }
 ],
 "metadata": {
  "kernelspec": {
   "display_name": "Python 3",
   "language": "python",
   "name": "python3"
  },
  "language_info": {
   "codemirror_mode": {
    "name": "ipython",
    "version": 3
   },
   "file_extension": ".py",
   "mimetype": "text/x-python",
   "name": "python",
   "nbconvert_exporter": "python",
   "pygments_lexer": "ipython3",
   "version": "3.8.5"
  }
 },
 "nbformat": 4,
 "nbformat_minor": 4
}
