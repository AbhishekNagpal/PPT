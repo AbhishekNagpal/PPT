{
 "cells": [
  {
   "cell_type": "markdown",
   "metadata": {},
   "source": [
    "<aside>\n",
    "💡 **Question 1**\n",
    "\n",
    "A permutation perm of n + 1 integers of all the integers in the range [0, n] can be represented as a string s of length n where:\n",
    "\n",
    "- s[i] == 'I' if perm[i] < perm[i + 1], and\n",
    "- s[i] == 'D' if perm[i] > perm[i + 1].\n",
    "\n",
    "Given a string s, reconstruct the permutation perm and return it. If there are multiple valid permutations perm, return **any of them**.\n",
    "\n",
    "**Example 1:**\n",
    "\n",
    "**Input:** s = \"IDID\"\n",
    "\n",
    "**Output:**\n",
    "\n",
    "[0,4,1,3,2]\n",
    "\n",
    "</aside>"
   ]
  },
  {
   "cell_type": "code",
   "execution_count": 1,
   "metadata": {},
   "outputs": [
    {
     "name": "stdout",
     "output_type": "stream",
     "text": [
      "[0, 4, 1, 3, 2]\n"
     ]
    }
   ],
   "source": [
    "def diStringMatch(s):\n",
    "    per=[]\n",
    "    lower=0\n",
    "    upper=len(s)\n",
    "    for i in s:\n",
    "        if i=='I':\n",
    "            per.append(lower)\n",
    "            lower+=1\n",
    "        else:\n",
    "            per.append(upper)\n",
    "            upper-=1\n",
    "    if s[len(s)-1]=='I':\n",
    "        per.append(upper)\n",
    "    else:\n",
    "        per.append(lower)\n",
    "    return per\n",
    "s = \"IDID\"\n",
    "print(diStringMatch(s))"
   ]
  },
  {
   "cell_type": "markdown",
   "metadata": {},
   "source": [
    "<aside>\n",
    "💡 **Question 2**\n",
    "\n",
    "You are given an m x n integer matrix matrix with the following two properties:\n",
    "\n",
    "- Each row is sorted in non-decreasing order.\n",
    "- The first integer of each row is greater than the last integer of the previous row.\n",
    "\n",
    "Given an integer target, return true *if* target *is in* matrix *or* false *otherwise*.\n",
    "\n",
    "You must write a solution in O(log(m * n)) time complexity.\n",
    "\n",
    "</aside>"
   ]
  },
  {
   "cell_type": "code",
   "execution_count": 2,
   "metadata": {},
   "outputs": [
    {
     "name": "stdout",
     "output_type": "stream",
     "text": [
      "True\n"
     ]
    }
   ],
   "source": [
    "def searchMatrix(arr,target):\n",
    "    def binary_search(arr,target):\n",
    "        l = 0\n",
    "        h = len(arr)-1\n",
    "        while l<=h:\n",
    "            mid = (l+h)//2\n",
    "            if arr[mid] == target:\n",
    "                return True\n",
    "            elif arr[mid] < target:\n",
    "                l = mid + 1\n",
    "            else:\n",
    "                h = mid - 1\n",
    "\n",
    "        return False\n",
    "\n",
    "        \n",
    "    for i in range(len(arr)):\n",
    "        if binary_search(arr[i],target):\n",
    "            return True\n",
    "\n",
    "    return False\n",
    "\n",
    "matrix = [[1,3,5,7],[10,11,16,20],[23,30,34,60]]\n",
    "target = 3\n",
    "print(searchMatrix(matrix,target))"
   ]
  },
  {
   "cell_type": "markdown",
   "metadata": {},
   "source": [
    "<aside>\n",
    "💡 **Question 3**\n",
    "\n",
    "Given an array of integers arr, return *true if and only if it is a valid mountain array*.\n",
    "\n",
    "Recall that arr is a mountain array if and only if:\n",
    "\n",
    "- arr.length >= 3\n",
    "- There exists some i with 0 < i < arr.length - 1 such that:\n",
    "    - arr[0] < arr[1] < ... < arr[i - 1] < arr[i]\n",
    "    - arr[i] > arr[i + 1] > ... > arr[arr.length - 1]\n",
    "</aside>"
   ]
  },
  {
   "cell_type": "code",
   "execution_count": 3,
   "metadata": {},
   "outputs": [
    {
     "name": "stdout",
     "output_type": "stream",
     "text": [
      "True\n"
     ]
    }
   ],
   "source": [
    "def validMountainArray(arr):\n",
    "    left, right = 0, len(arr) - 1\n",
    "    while left < right:\n",
    "        if arr[left] < arr[left + 1]: \n",
    "            left += 1\n",
    "        elif arr[right - 1] > arr[right]: \n",
    "            right -= 1\n",
    "        else: \n",
    "            break\n",
    "    return len(arr) >= 3 and 0 < left == right < len(arr) - 1\n",
    "\n",
    "arr = [0,3,2,1]\n",
    "print(validMountainArray(arr))"
   ]
  },
  {
   "cell_type": "markdown",
   "metadata": {},
   "source": [
    "<aside>\n",
    "💡 **Question 4**\n",
    "\n",
    "Given a binary array nums, return *the maximum length of a contiguous subarray with an equal number of* 0 *and* 1.\n",
    "\n",
    "**Example 1:**\n",
    "\n",
    "**Input:** nums = [0,1]\n",
    "\n",
    "**Output:** 2\n",
    "\n",
    "</aside>"
   ]
  },
  {
   "cell_type": "code",
   "execution_count": 4,
   "metadata": {},
   "outputs": [
    {
     "name": "stdout",
     "output_type": "stream",
     "text": [
      "2\n"
     ]
    }
   ],
   "source": [
    "def findMaxLength(nums):\n",
    "    totalsum,hashmap=0,{0:-1}\n",
    "    res,diff=0,0\n",
    "    for i in range(len(nums)):\n",
    "        if(nums[i]==0):\n",
    "            totalsum-=1\n",
    "        else:\n",
    "            totalsum+=1\n",
    "        try:\n",
    "            diff=i-hashmap[totalsum]\n",
    "            if(diff>res):\n",
    "                res=diff\n",
    "        except:\n",
    "            hashmap[totalsum]=i\n",
    "    return res\n",
    "\n",
    "nums = [0,1]\n",
    "print(findMaxLength(nums))"
   ]
  },
  {
   "cell_type": "markdown",
   "metadata": {},
   "source": [
    "<aside>\n",
    "💡 **Question 5**\n",
    "\n",
    "The **product sum** of two equal-length arrays a and b is equal to the sum of a[i] * b[i] for all 0 <= i < a.length (**0-indexed**).\n",
    "\n",
    "- For example, if a = [1,2,3,4] and b = [5,2,3,1], the **product sum** would be 1*5 + 2*2 + 3*3 + 4*1 = 22.\n",
    "\n",
    "Given two arrays nums1 and nums2 of length n, return *the **minimum product sum** if you are allowed to **rearrange** the **order** of the elements in* nums1.\n",
    "\n",
    "**Example 1:**\n",
    "\n",
    "**Input:** nums1 = [5,3,4,2], nums2 = [4,2,2,5]\n",
    "\n",
    "**Output:** 40\n",
    "\n",
    "</aside>"
   ]
  },
  {
   "cell_type": "code",
   "execution_count": 5,
   "metadata": {},
   "outputs": [
    {
     "name": "stdout",
     "output_type": "stream",
     "text": [
      "40\n"
     ]
    }
   ],
   "source": [
    "def productSum(nums1,nums2):\n",
    "    nums1.sort()\n",
    "    nums2.sort()\n",
    "    ans = 0\n",
    "    i = 0\n",
    "    j = len(nums2)-1\n",
    "    while i<len(nums1) and j>=0:\n",
    "        ans += nums1[i] * nums2[j]\n",
    "        i += 1\n",
    "        j -= 1\n",
    "    \n",
    "    return ans\n",
    "nums1 = [5,3,4,2]\n",
    "nums2 = [4,2,2,5]\n",
    "print(productSum(nums1,nums2))"
   ]
  },
  {
   "cell_type": "markdown",
   "metadata": {},
   "source": [
    "<aside>\n",
    "💡 **Question 6**\n",
    "\n",
    "An integer array original is transformed into a **doubled** array changed by appending **twice the value** of every element in original, and then randomly **shuffling** the resulting array.\n",
    "\n",
    "Given an array changed, return original *if* changed *is a **doubled** array. If* changed *is not a **doubled** array, return an empty array. The elements in* original *may be returned in **any** order*.\n",
    "\n",
    "**Example 1:**\n",
    "\n",
    "**Input:** changed = [1,3,4,2,6,8]\n",
    "\n",
    "**Output:** [1,3,4]\n",
    "\n",
    "</aside>"
   ]
  },
  {
   "cell_type": "code",
   "execution_count": 6,
   "metadata": {},
   "outputs": [
    {
     "name": "stdout",
     "output_type": "stream",
     "text": [
      "[1, 3, 4]\n"
     ]
    }
   ],
   "source": [
    "from collections import Counter\n",
    "def findOriginalArray(changed):\n",
    "    c = Counter(changed)\n",
    "\n",
    "    zeros, m = divmod(c[0], 2)\n",
    "    if m: return []\n",
    "    ans = [0]*zeros   \n",
    "    for n in sorted(c.keys()):\n",
    "        if c[n] > c[2*n]: return []\n",
    "        c[2*n]-= c[n]\n",
    "        ans.extend([n]*c[n])\n",
    "\n",
    "    return ans\n",
    "\n",
    "changed = [1,3,4,2,6,8]\n",
    "print(findOriginalArray(changed))"
   ]
  },
  {
   "cell_type": "markdown",
   "metadata": {},
   "source": [
    "<aside>\n",
    "💡 **Question 7**\n",
    "\n",
    "Given a positive integer n, generate an n x n matrix filled with elements from 1 to n2 in spiral order.\n",
    "\n",
    "</aside>"
   ]
  },
  {
   "cell_type": "code",
   "execution_count": 7,
   "metadata": {},
   "outputs": [
    {
     "name": "stdout",
     "output_type": "stream",
     "text": [
      "[1, 2, 3, 6, 9, 8, 7, 4, 5]\n"
     ]
    }
   ],
   "source": [
    "def spiralOrder(arr):\n",
    "    row = len(arr)\n",
    "    col = len(arr[0])\n",
    "    ans = []\n",
    "\n",
    "    ## index initialization\n",
    "    starting_row = 0\n",
    "    starting_col = 0\n",
    "    ending_row = row - 1\n",
    "    ending_col = col - 1\n",
    "    while starting_row <= ending_row and starting_col <= ending_col:\n",
    "        for i in range(starting_col,ending_col+1):\n",
    "            ans.append(arr[starting_row][i])\n",
    "\n",
    "        starting_row = starting_row + 1\n",
    "\n",
    "        for i in range(starting_row,ending_row+1):\n",
    "            ans.append(arr[i][ending_col])\n",
    "\n",
    "        ending_col = ending_col - 1\n",
    "\n",
    "        if starting_row <= ending_row:\n",
    "            for i in range(ending_col,starting_col-1,-1):\n",
    "                ans.append(arr[ending_row][i])\n",
    "\n",
    "            ending_row = ending_row - 1\n",
    "\n",
    "        if starting_col <= ending_col:\n",
    "            for i in range(ending_row,starting_row-1,-1):\n",
    "                ans.append(arr[i][starting_col])\n",
    "\n",
    "            starting_col = starting_col + 1\n",
    "\n",
    "    return ans\n",
    "\n",
    "matrix = [[1,2,3],[4,5,6],[7,8,9]]\n",
    "print(spiralOrder(matrix))"
   ]
  },
  {
   "cell_type": "markdown",
   "metadata": {},
   "source": [
    "<aside>\n",
    "💡 **Question 8**\n",
    "\n",
    "Given two [sparse matrices](https://en.wikipedia.org/wiki/Sparse_matrix) mat1 of size m x k and mat2 of size k x n, return the result of mat1 x mat2. You may assume that multiplication is always possible.\n",
    "\n",
    "</aside>"
   ]
  },
  {
   "cell_type": "code",
   "execution_count": 8,
   "metadata": {},
   "outputs": [
    {
     "name": "stdout",
     "output_type": "stream",
     "text": [
      "[[7, 0, 0], [-7, 0, 3]]\n"
     ]
    }
   ],
   "source": [
    "def multiply(mat1,mat2):\n",
    "    r1, c1, c2 = len(mat1), len(mat1[0]), len(mat2[0])\n",
    "    res = [[0] * c2 for _ in range(r1)]\n",
    "    for i in range(r1):\n",
    "        for j in range(c2):\n",
    "            for k in range(c1):\n",
    "                res[i][j] += mat1[i][k] * mat2[k][j]\n",
    "    return res\n",
    "mat1 = [[1,0,0],[-1,0,3]]\n",
    "mat2 = [[7,0,0],[0,0,0],[0,0,1]]\n",
    "print(multiply(mat1,mat2))"
   ]
  },
  {
   "cell_type": "code",
   "execution_count": null,
   "metadata": {},
   "outputs": [],
   "source": []
  }
 ],
 "metadata": {
  "kernelspec": {
   "display_name": "Python 3",
   "language": "python",
   "name": "python3"
  },
  "language_info": {
   "codemirror_mode": {
    "name": "ipython",
    "version": 3
   },
   "file_extension": ".py",
   "mimetype": "text/x-python",
   "name": "python",
   "nbconvert_exporter": "python",
   "pygments_lexer": "ipython3",
   "version": "3.8.5"
  }
 },
 "nbformat": 4,
 "nbformat_minor": 4
}
