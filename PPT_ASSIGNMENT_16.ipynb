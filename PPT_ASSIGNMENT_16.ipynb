{
 "cells": [
  {
   "cell_type": "markdown",
   "metadata": {},
   "source": [
    "<aside>\n",
    "💡 **Question 1**\n",
    "\n",
    "Given an array, for each element find the value of the nearest element to the right which is having a frequency greater than that of the current element. If there does not exist an answer for a position, then make the value ‘-1’.\n",
    "\n",
    "</aside>"
   ]
  },
  {
   "cell_type": "code",
   "execution_count": null,
   "metadata": {},
   "outputs": [],
   "source": [
    "def NFG(a, n):\n",
    " \n",
    "    if (n <= 0):\n",
    "        print(\"List empty\")\n",
    "        return []\n",
    "    stack = [0]*n\n",
    "    freq = {}\n",
    "    for i in a:\n",
    "        freq[a[i]] = 0\n",
    "    for i in a:\n",
    "        freq[a[i]] += 1\n",
    "    res = [0]*n\n",
    "    top = -1\n",
    "    top += 1\n",
    "    stack[top] = 0\n",
    "    for i in range(1, n):\n",
    "        if (freq[a[stack[top]]] > freq[a[i]]):\n",
    "            top += 1\n",
    "            stack[top] = i\n",
    " \n",
    "        else:\n",
    " \n",
    "            while (top > -1 and freq[a[stack[top]]] < freq[a[i]]):\n",
    "                res[stack[top]] = a[i]\n",
    "                top -= 1\n",
    "            top += 1\n",
    "            stack[top] = i\n",
    " \n",
    "    while (top > -1):\n",
    "        res[stack[top]] = -1\n",
    "        top -= 1\n",
    " \n",
    "    return res"
   ]
  },
  {
   "cell_type": "markdown",
   "metadata": {},
   "source": [
    "<aside>\n",
    "💡 **Question 2**\n",
    "\n",
    "Given a stack of integers, sort it in ascending order using another temporary stack.\n",
    "\n",
    "</aside>"
   ]
  },
  {
   "cell_type": "code",
   "execution_count": null,
   "metadata": {},
   "outputs": [],
   "source": [
    "def sortStack ( stack ):\n",
    "    tmpStack = createStack()\n",
    "    while(isEmpty(stack) == False):\n",
    "        tmp = top(stack)\n",
    "        pop(stack)\n",
    "\n",
    "        while(isEmpty(tmpStack) == False and int(top(tmpStack)) < int(tmp)):\n",
    "            push(stack,top(tmpStack))\n",
    "            pop(tmpStack)\n",
    "        push(tmpStack,tmp)\n",
    "     \n",
    "    return tmpStack"
   ]
  },
  {
   "cell_type": "markdown",
   "metadata": {},
   "source": [
    "<aside>\n",
    "💡 **Question 3**\n",
    "\n",
    "Given a stack with **push()**, **pop()**, and **empty()** operations, The task is to delete the **middle** element ****of it without using any additional data structure.\n",
    "\n",
    "Input  : Stack[] = [1, 2, 3, 4, 5]\n",
    "\n",
    "Output : Stack[] = [1, 2, 4, 5]\n",
    "\n",
    "Input  : Stack[] = [1, 2, 3, 4, 5, 6]\n",
    "\n",
    "Output : Stack[] = [1, 2, 4, 5, 6]\n",
    "\n",
    "</aside>"
   ]
  },
  {
   "cell_type": "code",
   "execution_count": null,
   "metadata": {},
   "outputs": [],
   "source": [
    "def deleteMid(st, n, curr) :\n",
    "    if (st.isEmpty() or curr == n) :\n",
    "        return\n",
    "    x = st.peek()\n",
    "    st.pop()\n",
    "\n",
    "    deleteMid(st, n, curr+1)\n",
    "    if (curr != int(n/2)) :\n",
    "        st.push(x)"
   ]
  },
  {
   "cell_type": "markdown",
   "metadata": {},
   "source": [
    "<aside>\n",
    "💡 **Question 4**\n",
    "\n",
    "Given a Queue consisting of first **n** natural numbers (in random order). The task is to check whether the given Queue elements can be arranged in increasing order in another Queue using a stack. The operation allowed are:\n",
    "\n",
    "1. Push and pop elements from the stack\n",
    "2. Pop (Or Dequeue) from the given Queue.\n",
    "3. Push (Or Enqueue) in the another Queue.\n",
    "</aside>"
   ]
  },
  {
   "cell_type": "code",
   "execution_count": null,
   "metadata": {},
   "outputs": [],
   "source": [
    "def checkSorted(n, q):\n",
    "    st = []\n",
    "    expected = 1\n",
    "    fnt = None\n",
    "    while (not q.empty()):\n",
    "        fnt = q.queue[0]\n",
    "        q.get()\n",
    "        if (fnt == expected):\n",
    "            expected += 1\n",
    " \n",
    "        else:\n",
    "\n",
    "            if (len(st) == 0):\n",
    "                st.append(fnt)\n",
    "\n",
    "            elif (len(st) != 0 and st[-1] < fnt):\n",
    "                return False\n",
    "            else:\n",
    "                st.append(fnt)\n",
    "        while (len(st) != 0 and\n",
    "                   st[-1] == expected):\n",
    "            st.pop()\n",
    "            expected += 1\n",
    "\n",
    "    if (expected - 1 == n and len(st) == 0):\n",
    "        return True\n",
    " \n",
    "    return False"
   ]
  },
  {
   "cell_type": "markdown",
   "metadata": {},
   "source": [
    "<aside>\n",
    "💡 **Question 5**\n",
    "\n",
    "Given a number , write a program to reverse this number using stack.\n",
    "\n",
    "</aside>"
   ]
  },
  {
   "cell_type": "code",
   "execution_count": null,
   "metadata": {},
   "outputs": [],
   "source": [
    "def reverse_number(number):\n",
    "    push_digits(number);\n",
    "     \n",
    "    reverse = 0;\n",
    "    i = 1;\n",
    "    while (len(st) > 0):\n",
    "        reverse = reverse + (st[len(st) - 1] * i);\n",
    "        st.pop();\n",
    "        i = i * 10;\n",
    "    return reverse"
   ]
  },
  {
   "cell_type": "markdown",
   "metadata": {},
   "source": [
    "<aside>\n",
    "💡 **Question 6**\n",
    "\n",
    "Given an integer k and a **[queue](https://www.geeksforgeeks.org/queue-data-structure/)** of integers, The task is to reverse the order of the first **k** elements of the queue, leaving the other elements in the same relative order.\n",
    "\n",
    "Only following standard operations are allowed on queue.\n",
    "\n",
    "- **enqueue(x) :** Add an item x to rear of queue\n",
    "- **dequeue() :** Remove an item from front of queue\n",
    "- **size() :** Returns number of elements in queue.\n",
    "- **front() :** Finds front item.\n",
    "</aside>"
   ]
  },
  {
   "cell_type": "code",
   "execution_count": null,
   "metadata": {},
   "outputs": [],
   "source": [
    "from collections import deque\n",
    " \n",
    "def reverse_k(q, k):\n",
    "    solve(q, k)\n",
    "    s = len(q) - k\n",
    "    for _ in range(s):\n",
    "        x = q.popleft()\n",
    "        q.append(x)\n",
    "    return q"
   ]
  },
  {
   "cell_type": "markdown",
   "metadata": {},
   "source": [
    "<aside>\n",
    "💡 **Question 7**\n",
    "\n",
    "Given a sequence of n strings, the task is to check if any two similar words come together and then destroy each other then print the number of words left in the sequence after this pairwise destruction.\n",
    "\n",
    "</aside>"
   ]
  },
  {
   "cell_type": "code",
   "execution_count": null,
   "metadata": {},
   "outputs": [],
   "source": [
    "def removeConsecutiveSame(v):\n",
    " \n",
    "    n = len(v)\n",
    "    i = 0\n",
    "    while(i < n - 1):\n",
    "        if ((i + 1) < len(v)) and (v[i] == v[i + 1]):\n",
    "            v = v[:i]\n",
    "            v = v[:i]\n",
    "            if (i > 0):\n",
    "                i -= 1\n",
    "            n = n - 2\n",
    "        else:\n",
    "            i += 1\n",
    "    return len(v[:i - 1])"
   ]
  },
  {
   "cell_type": "markdown",
   "metadata": {},
   "source": [
    "<aside>\n",
    "💡 **Question 8**\n",
    "\n",
    "Given an array of integers, the task is to find the maximum absolute difference between the nearest left and the right smaller element of every element in the array.\n",
    "\n",
    "**Note:** If there is no smaller element on right side or left side of any element then we take zero as the smaller element. For example for the leftmost element, the nearest smaller element on the left side is considered as 0. Similarly, for rightmost elements, the smaller element on the right side is considered as 0.\n",
    "\n",
    "</aside>"
   ]
  },
  {
   "cell_type": "code",
   "execution_count": null,
   "metadata": {},
   "outputs": [],
   "source": [
    "def leftsmaller(arr, n, SE):\n",
    "\n",
    "    sta = []\n",
    "    for i in range(n):\n",
    "        while(sta != [] and sta[len(sta)-1] >= arr[i]):\n",
    "            sta.pop()\n",
    "        if(sta != []):\n",
    "            SE[i]=sta[len(sta)-1]\n",
    "        else:\n",
    "            SE[i]=0\n",
    "        sta.append(arr[i])"
   ]
  }
 ],
 "metadata": {
  "kernelspec": {
   "display_name": "Python 3",
   "language": "python",
   "name": "python3"
  },
  "language_info": {
   "codemirror_mode": {
    "name": "ipython",
    "version": 3
   },
   "file_extension": ".py",
   "mimetype": "text/x-python",
   "name": "python",
   "nbconvert_exporter": "python",
   "pygments_lexer": "ipython3",
   "version": "3.8.5"
  }
 },
 "nbformat": 4,
 "nbformat_minor": 4
}
