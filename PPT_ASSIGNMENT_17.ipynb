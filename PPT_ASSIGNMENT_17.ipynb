{
 "cells": [
  {
   "cell_type": "markdown",
   "metadata": {},
   "source": [
    "<aside>\n",
    "💡 **Question 1**\n",
    "\n",
    "Given a string `s`, *find the first non-repeating character in it and return its index*. If it does not exist, return `-1`.\n",
    "\n",
    "</aside>"
   ]
  },
  {
   "cell_type": "code",
   "execution_count": null,
   "metadata": {},
   "outputs": [],
   "source": [
    "def FirstNonRepeat(s):\n",
    "    for i in s:\n",
    "        if (s.find(i, (s.find(i)+1))) == -1:\n",
    "            print(i)\n",
    "            break\n",
    "    return\n"
   ]
  },
  {
   "cell_type": "markdown",
   "metadata": {},
   "source": [
    "<aside>\n",
    "💡 **uestion 2**\n",
    "\n",
    "Given a **circular integer array** `nums` of length `n`, return *the maximum possible sum of a non-empty **subarray** of* `nums`.\n",
    "\n",
    "A **circular array** means the end of the array connects to the beginning of the array. Formally, the next element of `nums[i]` is `nums[(i + 1) % n]` and the previous element of `nums[i]` is `nums[(i - 1 + n) % n]`.\n",
    "\n",
    "A **subarray** may only include each element of the fixed buffer `nums` at most once. Formally, for a subarray `nums[i], nums[i + 1], ..., nums[j]`, there does not exist `i <= k1`, `k2 <= j` with `k1 % n == k2 % n`.\n",
    "\n",
    "</aside>"
   ]
  },
  {
   "cell_type": "code",
   "execution_count": null,
   "metadata": {},
   "outputs": [],
   "source": [
    "def maxCircularSum(a, n):\n",
    "    if (n == 1):\n",
    "        return a[0]\n",
    "    sum = 0\n",
    "    for i in range(n):\n",
    "        sum += a[i]\n",
    "    curr_max = a[0]\n",
    "    max_so_far = a[0]\n",
    "    curr_min = a[0]\n",
    "    min_so_far = a[0]\n",
    "\n",
    "    for i in range(1, n):\n",
    "        curr_max = max(curr_max + a[i], a[i])\n",
    "        max_so_far = max(max_so_far, curr_max)\n",
    "        curr_min = min(curr_min + a[i], a[i])\n",
    "        min_so_far = min(min_so_far, curr_min)\n",
    "    if (min_so_far == sum):\n",
    "        return max_so_far\n",
    "    return max(max_so_far, sum - min_so_far)"
   ]
  },
  {
   "cell_type": "markdown",
   "metadata": {},
   "source": [
    "<aside>\n",
    "💡 **Question 3**\n",
    "\n",
    "The school cafeteria offers circular and square sandwiches at lunch break, referred to by numbers `0` and `1` respectively. All students stand in a queue. Each student either prefers square or circular sandwiches.\n",
    "\n",
    "The number of sandwiches in the cafeteria is equal to the number of students. The sandwiches are placed in a **stack**. At each step:\n",
    "\n",
    "- If the student at the front of the queue **prefers** the sandwich on the top of the stack, they will **take it** and leave the queue.\n",
    "- Otherwise, they will **leave it** and go to the queue's end.\n",
    "\n",
    "This continues until none of the queue students want to take the top sandwich and are thus unable to eat.\n",
    "\n",
    "You are given two integer arrays `students` and `sandwiches` where `sandwiches[i]` is the type of the `ith` sandwich in the stack (`i = 0` is the top of the stack) and `students[j]` is the preference of the `jth` student in the initial queue (`j = 0` is the front of the queue). Return *the number of students that are unable to eat.*\n",
    "\n",
    "</aside>"
   ]
  },
  {
   "cell_type": "code",
   "execution_count": null,
   "metadata": {},
   "outputs": [],
   "source": [
    "def countStudents(students,sandwiches):\n",
    "    while(len(students)!=0):\n",
    "        if(sandwiches[0] not in students):\n",
    "            return(len(students))\n",
    "        if(students[0]==sandwiches[0]):\n",
    "            students.pop(0)\n",
    "            sandwiches.pop(0)\n",
    "        else:\n",
    "            a=students.pop(0)\n",
    "            students.append(a)\n",
    "        return(len(students))"
   ]
  },
  {
   "cell_type": "markdown",
   "metadata": {},
   "source": [
    "<aside>\n",
    "💡 **Question 4**\n",
    "\n",
    "You have a `RecentCounter` class which counts the number of recent requests within a certain time frame.\n",
    "\n",
    "Implement the `RecentCounter` class:\n",
    "\n",
    "- `RecentCounter()` Initializes the counter with zero recent requests.\n",
    "- `int ping(int t)` Adds a new request at time `t`, where `t` represents some time in milliseconds, and returns the number of requests that has happened in the past `3000` milliseconds (including the new request). Specifically, return the number of requests that have happened in the inclusive range `[t - 3000, t]`.\n",
    "\n",
    "It is **guaranteed** that every call to `ping` uses a strictly larger value of `t` than the previous call.\n",
    "\n",
    "</aside>"
   ]
  },
  {
   "cell_type": "code",
   "execution_count": null,
   "metadata": {},
   "outputs": [],
   "source": [
    "from collections import deque\n",
    "\n",
    "class RecentCounter:\n",
    "\n",
    "    def __init__(self):\n",
    "        self.queue = deque()\n",
    "\n",
    "    def ping(self, t: int) -> int:\n",
    "        self.queue.append(t)\n",
    "        while t - 3000 > self.queue[0]:\n",
    "            self.queue.popleft()\n",
    "        return len(self.queue)"
   ]
  },
  {
   "cell_type": "markdown",
   "metadata": {},
   "source": [
    "<aside>\n",
    "💡 **Question 5**\n",
    "\n",
    "There are `n` friends that are playing a game. The friends are sitting in a circle and are numbered from `1` to `n` in **clockwise order**. More formally, moving clockwise from the `ith` friend brings you to the `(i+1)th` friend for `1 <= i < n`, and moving clockwise from the `nth` friend brings you to the `1st` friend.\n",
    "\n",
    "The rules of the game are as follows:\n",
    "\n",
    "1. **Start** at the `1st` friend.\n",
    "2. Count the next `k` friends in the clockwise direction **including** the friend you started at. The counting wraps around the circle and may count some friends more than once.\n",
    "3. The last friend you counted leaves the circle and loses the game.\n",
    "4. If there is still more than one friend in the circle, go back to step `2` **starting** from the friend **immediately clockwise** of the friend who just lost and repeat.\n",
    "5. Else, the last friend in the circle wins the game.\n",
    "\n",
    "Given the number of friends, `n`, and an integer `k`, return *the winner of the game*.\n",
    "\n",
    "</aside>"
   ]
  },
  {
   "cell_type": "code",
   "execution_count": null,
   "metadata": {},
   "outputs": [],
   "source": [
    "def findTheWinner(n,k):\n",
    "    nums=[]\n",
    "    for i in range(1,n+1):\n",
    "        nums.append(i)\n",
    "    j=0\n",
    "    while len(nums)!=1:\n",
    "        j=(j+k-1)%len(nums)\n",
    "        nums.remove(nums[j])\n",
    "    return nums[0]"
   ]
  },
  {
   "cell_type": "markdown",
   "metadata": {},
   "source": [
    "<aside>\n",
    "💡 **Question 6**\n",
    "\n",
    "You are given an integer array `deck`. There is a deck of cards where every card has a unique integer. The integer on the `ith` card is `deck[i]`.\n",
    "\n",
    "You can order the deck in any order you want. Initially, all the cards start face down (unrevealed) in one deck.\n",
    "\n",
    "You will do the following steps repeatedly until all cards are revealed:\n",
    "\n",
    "1. Take the top card of the deck, reveal it, and take it out of the deck.\n",
    "2. If there are still cards in the deck then put the next top card of the deck at the bottom of the deck.\n",
    "3. If there are still unrevealed cards, go back to step 1. Otherwise, stop.\n",
    "\n",
    "Return *an ordering of the deck that would reveal the cards in increasing order*.\n",
    "\n",
    "</aside>"
   ]
  },
  {
   "cell_type": "code",
   "execution_count": null,
   "metadata": {},
   "outputs": [],
   "source": [
    "def deckRevealedIncreasing(self, deck):\n",
    "    N = len(deck)\n",
    "    index = collections.deque(range(N))\n",
    "    ans = [None] * N\n",
    "    for card in sorted(deck):\n",
    "        ans[index.popleft()] = card\n",
    "        if index:\n",
    "            index.append(index.popleft())\n",
    "\n",
    "    return ans"
   ]
  },
  {
   "cell_type": "code",
   "execution_count": null,
   "metadata": {},
   "outputs": [],
   "source": []
  }
 ],
 "metadata": {
  "kernelspec": {
   "display_name": "Python 3",
   "language": "python",
   "name": "python3"
  },
  "language_info": {
   "codemirror_mode": {
    "name": "ipython",
    "version": 3
   },
   "file_extension": ".py",
   "mimetype": "text/x-python",
   "name": "python",
   "nbconvert_exporter": "python",
   "pygments_lexer": "ipython3",
   "version": "3.8.5"
  }
 },
 "nbformat": 4,
 "nbformat_minor": 4
}
