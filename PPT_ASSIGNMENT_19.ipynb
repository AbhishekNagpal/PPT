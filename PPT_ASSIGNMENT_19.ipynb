{
 "cells": [
  {
   "cell_type": "markdown",
   "metadata": {},
   "source": [
    "<aside>\n",
    "💡 1. **Merge k Sorted Lists**\n",
    "\n",
    "You are given an array of `k` linked-lists `lists`, each linked-list is sorted in ascending order.\n",
    "\n",
    "*Merge all the linked-lists into one sorted linked-list and return it.*\n",
    "\n",
    "</aside>"
   ]
  },
  {
   "cell_type": "code",
   "execution_count": null,
   "metadata": {},
   "outputs": [],
   "source": [
    "class MergeKSortedList:\n",
    "    def mergeKLists(self, lists: List[ListNode]) -> ListNode:\n",
    "        if lists is None or len(lists) == 0:\n",
    "            return None\n",
    "        return self.mergeLists(lists, 0, len(lists) - 1)\n",
    "\n",
    "    def mergeLists(self, lists, start, end):\n",
    "        if start == end:\n",
    "            return lists[start]\n",
    "        mid = start + (end - start) // 2\n",
    "        left = self.mergeLists(lists, start, mid)\n",
    "        right = self.mergeLists(lists, mid + 1, end)\n",
    "        return self.merge(left, right)\n",
    "\n",
    "    @staticmethod\n",
    "    def merge(left, right):\n",
    "        head = ListNode(-1)\n",
    "        temp = head\n",
    "        while left is not None and right is not None:\n",
    "\n",
    "            if left.val < right.val:\n",
    "                temp.next = left\n",
    "                left = left.next\n",
    "            else:\n",
    "                temp.next = right\n",
    "                right = right.next\n",
    "            temp = temp.next\n",
    "        while left is not None:\n",
    "            temp.next = left\n",
    "            left = left.next\n",
    "            temp = temp.next\n",
    "        while right is not None:\n",
    "            temp.next = right\n",
    "            right = right.next\n",
    "            temp = temp.next\n",
    "        return head.next\n"
   ]
  },
  {
   "cell_type": "markdown",
   "metadata": {},
   "source": [
    "<aside>\n",
    "💡 2. **Count of Smaller Numbers After Self**\n",
    "\n",
    "Given an integer array `nums`, return *an integer array* `counts` *where* `counts[i]` *is the number of smaller elements to the right of* `nums[i]`.\n",
    "\n",
    "</aside>"
   ]
  },
  {
   "cell_type": "code",
   "execution_count": null,
   "metadata": {},
   "outputs": [],
   "source": [
    "def count_smaller(nums):\n",
    "    smaller_arr = [0] * len(nums)\n",
    "    def merge_sort(nums):\n",
    "        if len(nums) <= 1:\n",
    "            return nums\n",
    "        mid = len(nums) // 2\n",
    "        left = merge_sort(nums[:mid])\n",
    "        right = merge_sort(nums[mid:])\n",
    "        return merge(left, right)\n",
    "\n",
    "    def merge(left, right):\n",
    "        result = []\n",
    "        l, r = 0, 0\n",
    "        while l < len(left) or r < len(right):\n",
    "            if r >= len(right) or (l < len(left) and left[l][1] <= right[r][1]):\n",
    "                result.append(left[l])\n",
    "                smaller_arr[left[l][0]] += r\n",
    "                l += 1\n",
    "            else:\n",
    "                result.append(right[r])\n",
    "                r += 1\n",
    "        return result\n",
    "\n",
    "    merge_sort(list(enumerate(nums)))\n",
    "    return smaller_arr"
   ]
  },
  {
   "cell_type": "markdown",
   "metadata": {},
   "source": [
    "<aside>\n",
    "💡 3. **Sort an Array**\n",
    "\n",
    "Given an array of integers `nums`, sort the array in ascending order and return it.\n",
    "\n",
    "You must solve the problem **without using any built-in** functions in `O(nlog(n))` time complexity and with the smallest space complexity possible.\n",
    "\n",
    "</aside>"
   ]
  },
  {
   "cell_type": "code",
   "execution_count": null,
   "metadata": {},
   "outputs": [],
   "source": [
    "def selection_sort(x):\n",
    "    for i in range(len(x)):\n",
    "        swap = i + np.argmin(x[i:])\n",
    "        (x[i], x[swap]) = (x[swap], x[i])\n",
    "    return x"
   ]
  },
  {
   "cell_type": "markdown",
   "metadata": {},
   "source": [
    "<aside>\n",
    "💡 4. **Move all zeroes to end of array**\n",
    "\n",
    "Given an array of random numbers, Push all the zero’s of a given array to the end of the array. For example, if the given arrays is {1, 9, 8, 4, 0, 0, 2, 7, 0, 6, 0}, it should be changed to {1, 9, 8, 4, 2, 7, 6, 0, 0, 0, 0}. The order of all other elements should be same. Expected time complexity is O(n) and extra space is O(1).\n",
    "\n",
    "</aside>"
   ]
  },
  {
   "cell_type": "code",
   "execution_count": null,
   "metadata": {},
   "outputs": [],
   "source": [
    "def ZerosToEnd(arr, n):\n",
    "    count = 0 \n",
    "    for i in range(n):\n",
    "        if arr[i] != 0:\n",
    "            arr[count] = arr[i]\n",
    "            count+=1\n",
    "    while count < n:\n",
    "        arr[count] = 0\n",
    "        count += 1"
   ]
  },
  {
   "cell_type": "markdown",
   "metadata": {},
   "source": [
    "<aside>\n",
    "💡 5. **Rearrange array in alternating positive & negative items with O(1) extra space**\n",
    "\n",
    "Given an **array of positive** and **negative numbers**, arrange them in an **alternate** fashion such that every positive number is followed by a negative and vice-versa maintaining the **order of appearance**. The number of positive and negative numbers need not be equal. If there are more positive numbers they appear at the end of the array. If there are more negative numbers, they too appear at the end of the array.\n",
    "\n",
    "</aside>"
   ]
  },
  {
   "cell_type": "markdown",
   "metadata": {},
   "source": [
    "<aside>\n",
    "💡 **6. Merge two sorted arrays**\n",
    "\n",
    "Given two sorted arrays, the task is to merge them in a sorted manner.\n",
    "\n",
    "</aside>"
   ]
  },
  {
   "cell_type": "code",
   "execution_count": null,
   "metadata": {},
   "outputs": [],
   "source": [
    "def mergeArrays(arr1, arr2, n1, n2, arr3):\n",
    "    i = 0\n",
    "    j = 0\n",
    "    k = 0\n",
    "    while(i < n1):\n",
    "        arr3[k] = arr1[i]\n",
    "        k += 1\n",
    "        i += 1\n",
    "\n",
    "    while(j < n2):\n",
    "        arr3[k] = arr2[j]\n",
    "        k += 1\n",
    "        j += 1\n",
    "    arr3.sort()"
   ]
  },
  {
   "cell_type": "markdown",
   "metadata": {},
   "source": [
    "<aside>\n",
    "💡 7. **Intersection of Two Arrays**\n",
    "\n",
    "Given two integer arrays `nums1` and `nums2`, return *an array of their intersection*. Each element in the result must be **unique** and you may return the result in **any order**.\n",
    "\n",
    "</aside>"
   ]
  },
  {
   "cell_type": "code",
   "execution_count": null,
   "metadata": {},
   "outputs": [],
   "source": [
    "def intersection(a, b, n, m):\n",
    "    i = 0\n",
    "    j = 0\n",
    "    while (i < n and j < m):\n",
    "        if (a[i] > b[j]):\n",
    "            j += 1\n",
    "        else:\n",
    "            if (b[j] > a[i]):\n",
    "                i += 1\n",
    "            else:\n",
    "                print(a[i], end=\" \")\n",
    "                i += 1\n",
    "                j += 1"
   ]
  },
  {
   "cell_type": "markdown",
   "metadata": {},
   "source": [
    "<aside>\n",
    "💡 8. **Intersection of Two Arrays II**\n",
    "\n",
    "Given two integer arrays `nums1` and `nums2`, return *an array of their intersection*. Each element in the result must appear as many times as it shows in both arrays and you may return the result in **any order**.\n",
    "\n",
    "</aside>"
   ]
  },
  {
   "cell_type": "code",
   "execution_count": null,
   "metadata": {},
   "outputs": [],
   "source": [
    "def intersect(nums1,nums2):\n",
    "    if not nums1 or not nums2:\n",
    "        return []\n",
    "\n",
    "    map1 = collections.Counter(nums1)\n",
    "\n",
    "    result = []\n",
    "\n",
    "    for num in nums2:\n",
    "        if num in map1 and map1[num]:\n",
    "            result.append(num)\n",
    "            map1[num] -= 1\n",
    "    \n",
    "    return result"
   ]
  }
 ],
 "metadata": {
  "kernelspec": {
   "display_name": "Python 3",
   "language": "python",
   "name": "python3"
  },
  "language_info": {
   "codemirror_mode": {
    "name": "ipython",
    "version": 3
   },
   "file_extension": ".py",
   "mimetype": "text/x-python",
   "name": "python",
   "nbconvert_exporter": "python",
   "pygments_lexer": "ipython3",
   "version": "3.8.5"
  }
 },
 "nbformat": 4,
 "nbformat_minor": 4
}
